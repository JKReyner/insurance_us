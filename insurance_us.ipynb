{
 "cells": [
  {
   "cell_type": "markdown",
   "metadata": {},
   "source": [
    "# Statement"
   ]
  },
  {
   "cell_type": "markdown",
   "metadata": {},
   "source": [
    "The Sure Tomorrow insurance company wants to solve several tasks with the help of Machine Learning.\n",
    "\n",
    "- Task 1: Find customers who are similar to a given customer. This will help the company's agents with marketing.\n",
    "- Task 2: Predict whether a new customer is likely to receive an insurance benefit. Can a prediction model do better than a dummy model?\n",
    "- Task 3: Predict the number of insurance benefits a new customer is likely to receive using a linear regression model.\n",
    "- Task 4: Protect clients' personal data without breaking the model from the previous task. It's necessary to develop a data transformation algorithm that would make it hard to recover personal information if the data fell into the wrong hands."
   ]
  },
  {
   "cell_type": "markdown",
   "metadata": {},
   "source": [
    "# Data Preprocessing & Exploration\n",
    "\n",
    "## Initialization"
   ]
  },
  {
   "cell_type": "code",
   "execution_count": 1,
   "metadata": {},
   "outputs": [
    {
     "name": "stdout",
     "output_type": "stream",
     "text": [
      "Requirement already satisfied: scikit-learn in /opt/conda/lib/python3.9/site-packages (0.24.1)\n",
      "Collecting scikit-learn\n",
      "  Downloading scikit_learn-1.0.2-cp39-cp39-manylinux_2_17_x86_64.manylinux2014_x86_64.whl (26.4 MB)\n",
      "\u001b[K     |████████████████████████████████| 26.4 MB 64 kB/s  eta 0:00:01\n",
      "\u001b[?25hRequirement already satisfied: scipy>=1.1.0 in /opt/conda/lib/python3.9/site-packages (from scikit-learn) (1.8.0)\n",
      "Requirement already satisfied: threadpoolctl>=2.0.0 in /opt/conda/lib/python3.9/site-packages (from scikit-learn) (3.1.0)\n",
      "Requirement already satisfied: numpy>=1.14.6 in /opt/conda/lib/python3.9/site-packages (from scikit-learn) (1.21.1)\n",
      "Requirement already satisfied: joblib>=0.11 in /opt/conda/lib/python3.9/site-packages (from scikit-learn) (1.1.0)\n",
      "Installing collected packages: scikit-learn\n",
      "  Attempting uninstall: scikit-learn\n",
      "    Found existing installation: scikit-learn 0.24.1\n",
      "    Uninstalling scikit-learn-0.24.1:\n",
      "\u001b[31mERROR: Could not install packages due to an OSError: [Errno 13] Permission denied: 'COPYING'\n",
      "Consider using the `--user` option or check the permissions.\n",
      "\u001b[0m\n",
      "Note: you may need to restart the kernel to use updated packages.\n"
     ]
    }
   ],
   "source": [
    "pip install scikit-learn --upgrade"
   ]
  },
  {
   "cell_type": "code",
   "execution_count": 2,
   "metadata": {},
   "outputs": [],
   "source": [
    "import numpy as np\n",
    "import pandas as pd\n",
    "import matplotlib.pyplot as plt\n",
    "import math\n",
    "\n",
    "import seaborn as sns\n",
    "\n",
    "import sklearn.linear_model\n",
    "import sklearn.metrics\n",
    "import sklearn.neighbors\n",
    "import sklearn.preprocessing\n",
    "\n",
    "from sklearn.model_selection import train_test_split\n",
    "\n",
    "from IPython.display import display"
   ]
  },
  {
   "cell_type": "markdown",
   "metadata": {},
   "source": [
    "## Load Data"
   ]
  },
  {
   "cell_type": "markdown",
   "metadata": {},
   "source": [
    "Load data and conduct a basic check that it's free from obvious issues."
   ]
  },
  {
   "cell_type": "code",
   "execution_count": 3,
   "metadata": {},
   "outputs": [],
   "source": [
    "df = pd.read_csv('/datasets/insurance_us.csv')"
   ]
  },
  {
   "cell_type": "markdown",
   "metadata": {},
   "source": [
    "We rename the colums to make the code look more consistent with its style."
   ]
  },
  {
   "cell_type": "code",
   "execution_count": 4,
   "metadata": {},
   "outputs": [],
   "source": [
    "df = df.rename(columns={'Gender': 'gender', 'Age': 'age', 'Salary': 'income', 'Family members': 'family_members', 'Insurance benefits': 'insurance_benefits'})"
   ]
  },
  {
   "cell_type": "code",
   "execution_count": 5,
   "metadata": {},
   "outputs": [
    {
     "data": {
      "text/html": [
       "<div>\n",
       "<style scoped>\n",
       "    .dataframe tbody tr th:only-of-type {\n",
       "        vertical-align: middle;\n",
       "    }\n",
       "\n",
       "    .dataframe tbody tr th {\n",
       "        vertical-align: top;\n",
       "    }\n",
       "\n",
       "    .dataframe thead th {\n",
       "        text-align: right;\n",
       "    }\n",
       "</style>\n",
       "<table border=\"1\" class=\"dataframe\">\n",
       "  <thead>\n",
       "    <tr style=\"text-align: right;\">\n",
       "      <th></th>\n",
       "      <th>gender</th>\n",
       "      <th>age</th>\n",
       "      <th>income</th>\n",
       "      <th>family_members</th>\n",
       "      <th>insurance_benefits</th>\n",
       "    </tr>\n",
       "  </thead>\n",
       "  <tbody>\n",
       "    <tr>\n",
       "      <th>923</th>\n",
       "      <td>1</td>\n",
       "      <td>41.0</td>\n",
       "      <td>32300.0</td>\n",
       "      <td>2</td>\n",
       "      <td>0</td>\n",
       "    </tr>\n",
       "    <tr>\n",
       "      <th>2933</th>\n",
       "      <td>0</td>\n",
       "      <td>25.0</td>\n",
       "      <td>48800.0</td>\n",
       "      <td>1</td>\n",
       "      <td>0</td>\n",
       "    </tr>\n",
       "    <tr>\n",
       "      <th>4186</th>\n",
       "      <td>1</td>\n",
       "      <td>25.0</td>\n",
       "      <td>50600.0</td>\n",
       "      <td>1</td>\n",
       "      <td>0</td>\n",
       "    </tr>\n",
       "    <tr>\n",
       "      <th>177</th>\n",
       "      <td>1</td>\n",
       "      <td>56.0</td>\n",
       "      <td>56000.0</td>\n",
       "      <td>0</td>\n",
       "      <td>3</td>\n",
       "    </tr>\n",
       "    <tr>\n",
       "      <th>92</th>\n",
       "      <td>1</td>\n",
       "      <td>25.0</td>\n",
       "      <td>26700.0</td>\n",
       "      <td>1</td>\n",
       "      <td>0</td>\n",
       "    </tr>\n",
       "    <tr>\n",
       "      <th>4454</th>\n",
       "      <td>1</td>\n",
       "      <td>32.0</td>\n",
       "      <td>20100.0</td>\n",
       "      <td>1</td>\n",
       "      <td>0</td>\n",
       "    </tr>\n",
       "    <tr>\n",
       "      <th>889</th>\n",
       "      <td>1</td>\n",
       "      <td>33.0</td>\n",
       "      <td>28000.0</td>\n",
       "      <td>2</td>\n",
       "      <td>0</td>\n",
       "    </tr>\n",
       "    <tr>\n",
       "      <th>3211</th>\n",
       "      <td>0</td>\n",
       "      <td>31.0</td>\n",
       "      <td>40100.0</td>\n",
       "      <td>0</td>\n",
       "      <td>0</td>\n",
       "    </tr>\n",
       "    <tr>\n",
       "      <th>894</th>\n",
       "      <td>0</td>\n",
       "      <td>40.0</td>\n",
       "      <td>28100.0</td>\n",
       "      <td>0</td>\n",
       "      <td>0</td>\n",
       "    </tr>\n",
       "    <tr>\n",
       "      <th>4769</th>\n",
       "      <td>1</td>\n",
       "      <td>20.0</td>\n",
       "      <td>58500.0</td>\n",
       "      <td>1</td>\n",
       "      <td>0</td>\n",
       "    </tr>\n",
       "  </tbody>\n",
       "</table>\n",
       "</div>"
      ],
      "text/plain": [
       "      gender   age   income  family_members  insurance_benefits\n",
       "923        1  41.0  32300.0               2                   0\n",
       "2933       0  25.0  48800.0               1                   0\n",
       "4186       1  25.0  50600.0               1                   0\n",
       "177        1  56.0  56000.0               0                   3\n",
       "92         1  25.0  26700.0               1                   0\n",
       "4454       1  32.0  20100.0               1                   0\n",
       "889        1  33.0  28000.0               2                   0\n",
       "3211       0  31.0  40100.0               0                   0\n",
       "894        0  40.0  28100.0               0                   0\n",
       "4769       1  20.0  58500.0               1                   0"
      ]
     },
     "execution_count": 5,
     "metadata": {},
     "output_type": "execute_result"
    }
   ],
   "source": [
    "df.sample(10)"
   ]
  },
  {
   "cell_type": "code",
   "execution_count": 6,
   "metadata": {},
   "outputs": [
    {
     "name": "stdout",
     "output_type": "stream",
     "text": [
      "<class 'pandas.core.frame.DataFrame'>\n",
      "RangeIndex: 5000 entries, 0 to 4999\n",
      "Data columns (total 5 columns):\n",
      " #   Column              Non-Null Count  Dtype  \n",
      "---  ------              --------------  -----  \n",
      " 0   gender              5000 non-null   int64  \n",
      " 1   age                 5000 non-null   float64\n",
      " 2   income              5000 non-null   float64\n",
      " 3   family_members      5000 non-null   int64  \n",
      " 4   insurance_benefits  5000 non-null   int64  \n",
      "dtypes: float64(2), int64(3)\n",
      "memory usage: 195.4 KB\n"
     ]
    }
   ],
   "source": [
    "df.info()"
   ]
  },
  {
   "cell_type": "code",
   "execution_count": 7,
   "metadata": {},
   "outputs": [],
   "source": [
    "# we may want to fix the age type (from float to int) though this is not critical\n",
    "\n",
    "# write your conversion here if you choose:\n",
    "\n",
    "df['age'] = df['age'].astype('int')"
   ]
  },
  {
   "cell_type": "code",
   "execution_count": 8,
   "metadata": {},
   "outputs": [
    {
     "name": "stdout",
     "output_type": "stream",
     "text": [
      "<class 'pandas.core.frame.DataFrame'>\n",
      "RangeIndex: 5000 entries, 0 to 4999\n",
      "Data columns (total 5 columns):\n",
      " #   Column              Non-Null Count  Dtype  \n",
      "---  ------              --------------  -----  \n",
      " 0   gender              5000 non-null   int64  \n",
      " 1   age                 5000 non-null   int64  \n",
      " 2   income              5000 non-null   float64\n",
      " 3   family_members      5000 non-null   int64  \n",
      " 4   insurance_benefits  5000 non-null   int64  \n",
      "dtypes: float64(1), int64(4)\n",
      "memory usage: 195.4 KB\n"
     ]
    }
   ],
   "source": [
    "# check to see that the conversion was successful\n",
    "df.info()"
   ]
  },
  {
   "cell_type": "code",
   "execution_count": 9,
   "metadata": {},
   "outputs": [
    {
     "data": {
      "text/html": [
       "<div>\n",
       "<style scoped>\n",
       "    .dataframe tbody tr th:only-of-type {\n",
       "        vertical-align: middle;\n",
       "    }\n",
       "\n",
       "    .dataframe tbody tr th {\n",
       "        vertical-align: top;\n",
       "    }\n",
       "\n",
       "    .dataframe thead th {\n",
       "        text-align: right;\n",
       "    }\n",
       "</style>\n",
       "<table border=\"1\" class=\"dataframe\">\n",
       "  <thead>\n",
       "    <tr style=\"text-align: right;\">\n",
       "      <th></th>\n",
       "      <th>gender</th>\n",
       "      <th>age</th>\n",
       "      <th>income</th>\n",
       "      <th>family_members</th>\n",
       "      <th>insurance_benefits</th>\n",
       "    </tr>\n",
       "  </thead>\n",
       "  <tbody>\n",
       "    <tr>\n",
       "      <th>count</th>\n",
       "      <td>5000.000000</td>\n",
       "      <td>5000.000000</td>\n",
       "      <td>5000.000000</td>\n",
       "      <td>5000.000000</td>\n",
       "      <td>5000.000000</td>\n",
       "    </tr>\n",
       "    <tr>\n",
       "      <th>mean</th>\n",
       "      <td>0.499000</td>\n",
       "      <td>30.952800</td>\n",
       "      <td>39916.360000</td>\n",
       "      <td>1.194200</td>\n",
       "      <td>0.148000</td>\n",
       "    </tr>\n",
       "    <tr>\n",
       "      <th>std</th>\n",
       "      <td>0.500049</td>\n",
       "      <td>8.440807</td>\n",
       "      <td>9900.083569</td>\n",
       "      <td>1.091387</td>\n",
       "      <td>0.463183</td>\n",
       "    </tr>\n",
       "    <tr>\n",
       "      <th>min</th>\n",
       "      <td>0.000000</td>\n",
       "      <td>18.000000</td>\n",
       "      <td>5300.000000</td>\n",
       "      <td>0.000000</td>\n",
       "      <td>0.000000</td>\n",
       "    </tr>\n",
       "    <tr>\n",
       "      <th>25%</th>\n",
       "      <td>0.000000</td>\n",
       "      <td>24.000000</td>\n",
       "      <td>33300.000000</td>\n",
       "      <td>0.000000</td>\n",
       "      <td>0.000000</td>\n",
       "    </tr>\n",
       "    <tr>\n",
       "      <th>50%</th>\n",
       "      <td>0.000000</td>\n",
       "      <td>30.000000</td>\n",
       "      <td>40200.000000</td>\n",
       "      <td>1.000000</td>\n",
       "      <td>0.000000</td>\n",
       "    </tr>\n",
       "    <tr>\n",
       "      <th>75%</th>\n",
       "      <td>1.000000</td>\n",
       "      <td>37.000000</td>\n",
       "      <td>46600.000000</td>\n",
       "      <td>2.000000</td>\n",
       "      <td>0.000000</td>\n",
       "    </tr>\n",
       "    <tr>\n",
       "      <th>max</th>\n",
       "      <td>1.000000</td>\n",
       "      <td>65.000000</td>\n",
       "      <td>79000.000000</td>\n",
       "      <td>6.000000</td>\n",
       "      <td>5.000000</td>\n",
       "    </tr>\n",
       "  </tbody>\n",
       "</table>\n",
       "</div>"
      ],
      "text/plain": [
       "            gender          age        income  family_members  \\\n",
       "count  5000.000000  5000.000000   5000.000000     5000.000000   \n",
       "mean      0.499000    30.952800  39916.360000        1.194200   \n",
       "std       0.500049     8.440807   9900.083569        1.091387   \n",
       "min       0.000000    18.000000   5300.000000        0.000000   \n",
       "25%       0.000000    24.000000  33300.000000        0.000000   \n",
       "50%       0.000000    30.000000  40200.000000        1.000000   \n",
       "75%       1.000000    37.000000  46600.000000        2.000000   \n",
       "max       1.000000    65.000000  79000.000000        6.000000   \n",
       "\n",
       "       insurance_benefits  \n",
       "count         5000.000000  \n",
       "mean             0.148000  \n",
       "std              0.463183  \n",
       "min              0.000000  \n",
       "25%              0.000000  \n",
       "50%              0.000000  \n",
       "75%              0.000000  \n",
       "max              5.000000  "
      ]
     },
     "execution_count": 9,
     "metadata": {},
     "output_type": "execute_result"
    }
   ],
   "source": [
    "# now have a look at the data's descriptive statistics. \n",
    "# Does everything look okay?\n",
    "\n",
    "df.describe()"
   ]
  },
  {
   "cell_type": "markdown",
   "metadata": {},
   "source": [
    "The descriptive statistics appear to make sense, with age, income, gender, and number of family members all appearing to make logical sense."
   ]
  },
  {
   "cell_type": "markdown",
   "metadata": {},
   "source": [
    "## EDA"
   ]
  },
  {
   "cell_type": "markdown",
   "metadata": {},
   "source": [
    "Let's quickly check whether there are certain groups of customers by looking at the pair plot."
   ]
  },
  {
   "cell_type": "code",
   "execution_count": 10,
   "metadata": {},
   "outputs": [
    {
     "data": {
      "image/png": "[encoded data removed]",
      "text/plain": [
       "<Figure size 864x864 with 30 Axes>"
      ]
     },
     "metadata": {
      "needs_background": "light"
     },
     "output_type": "display_data"
    }
   ],
   "source": [
    "g = sns.pairplot(df, kind='hist')\n",
    "g.fig.set_size_inches(12, 12)"
   ]
  },
  {
   "cell_type": "markdown",
   "metadata": {},
   "source": [
    "Ok, it is a bit difficult to spot obvious groups (clusters) as it is difficult to combine several variables simultaneously (to analyze multivariate distributions). That's where LA and ML can be quite handy."
   ]
  },
  {
   "cell_type": "markdown",
   "metadata": {},
   "source": [
    "# Task 1. Similar Customers"
   ]
  },
  {
   "cell_type": "markdown",
   "metadata": {},
   "source": [
    "In the language of ML, it is necessary to develop a procedure that returns k nearest neighbors (objects) for a given object based on the distance between the objects.\n",
    "\n",
    "You may want to review the following lessons (chapter -> lesson)\n",
    "- Distance Between Vectors -> Euclidean Distance\n",
    "- Distance Between Vectors -> Manhattan Distance\n",
    "\n",
    "To solve the task, we can try different distance metrics."
   ]
  },
  {
   "cell_type": "markdown",
   "metadata": {},
   "source": [
    "We will write a function that returns k nearest neighbors for an $n^{th}$ object based on a specified distance metric. The number of received insurance benefits should not be taken into account for this task. \n",
    "\n",
    "Test it for four combination of two cases\n",
    "- Scaling\n",
    "  - the data is not scaled\n",
    "  - the data is scaled with the [MaxAbsScaler](https://scikit-learn.org/stable/modules/generated/sklearn.preprocessing.MaxAbsScaler.html) scaler\n",
    "- Distance Metrics\n",
    "  - Euclidean\n",
    "  - Manhattan\n",
    "\n",
    "We will answer these questions:\n",
    "- Does the data being not scaled affect the kNN algorithm? If so, how does that appear?\n",
    "- How similar are the results using the Manhattan distance metric (regardless of the scaling)?"
   ]
  },
  {
   "cell_type": "code",
   "execution_count": 11,
   "metadata": {},
   "outputs": [],
   "source": [
    "feature_names = ['gender', 'age', 'income', 'family_members']"
   ]
  },
  {
   "cell_type": "code",
   "execution_count": 13,
   "metadata": {},
   "outputs": [],
   "source": [
    "def get_knn(df, n, k, metric):\n",
    "    \n",
    "    \"\"\"\n",
    "    Returns k nearest neighbors\n",
    "\n",
    "    :param df: pandas DataFrame used to find similar objects within\n",
    "    :param n: object no for which the nearest neighbours are looked for\n",
    "    :param k: the number of the nearest neighbours to return\n",
    "    :param metric: name of distance metric\n",
    "    \"\"\"\n",
    "\n",
    "    nbrs = sklearn.neighbors.NearestNeighbors(n_neighbors = k, metric = metric)\n",
    "    nbrs.fit(df[feature_names],df['insurance_benefits'])\n",
    "    nbrs_distances, nbrs_indices = nbrs.kneighbors([df.iloc[n][feature_names]], k, return_distance=True)\n",
    "    \n",
    "    df_res = pd.concat([\n",
    "        df.iloc[nbrs_indices[0]], \n",
    "        pd.DataFrame(nbrs_distances.T, index=nbrs_indices[0], columns=['distance'])\n",
    "        ], axis=1)\n",
    "    \n",
    "    return df_res"
   ]
  },
  {
   "cell_type": "markdown",
   "metadata": {},
   "source": [
    "For displaying the k-nearest neighbors, we can test by taking an arbitrary point. We will look for the 10 nearest neighbors (which will require setting k to 11 since our function will return the exact point as one of the neighbors)."
   ]
  },
  {
   "cell_type": "code",
   "execution_count": 14,
   "metadata": {},
   "outputs": [
    {
     "data": {
      "text/html": [
       "<div>\n",
       "<style scoped>\n",
       "    .dataframe tbody tr th:only-of-type {\n",
       "        vertical-align: middle;\n",
       "    }\n",
       "\n",
       "    .dataframe tbody tr th {\n",
       "        vertical-align: top;\n",
       "    }\n",
       "\n",
       "    .dataframe thead th {\n",
       "        text-align: right;\n",
       "    }\n",
       "</style>\n",
       "<table border=\"1\" class=\"dataframe\">\n",
       "  <thead>\n",
       "    <tr style=\"text-align: right;\">\n",
       "      <th></th>\n",
       "      <th>gender</th>\n",
       "      <th>age</th>\n",
       "      <th>income</th>\n",
       "      <th>family_members</th>\n",
       "      <th>insurance_benefits</th>\n",
       "      <th>distance</th>\n",
       "    </tr>\n",
       "  </thead>\n",
       "  <tbody>\n",
       "    <tr>\n",
       "      <th>4649</th>\n",
       "      <td>1</td>\n",
       "      <td>31</td>\n",
       "      <td>46900.0</td>\n",
       "      <td>2</td>\n",
       "      <td>0</td>\n",
       "      <td>0.000000</td>\n",
       "    </tr>\n",
       "    <tr>\n",
       "      <th>725</th>\n",
       "      <td>0</td>\n",
       "      <td>29</td>\n",
       "      <td>46900.0</td>\n",
       "      <td>1</td>\n",
       "      <td>0</td>\n",
       "      <td>2.449490</td>\n",
       "    </tr>\n",
       "    <tr>\n",
       "      <th>1262</th>\n",
       "      <td>0</td>\n",
       "      <td>30</td>\n",
       "      <td>46900.0</td>\n",
       "      <td>0</td>\n",
       "      <td>0</td>\n",
       "      <td>2.449490</td>\n",
       "    </tr>\n",
       "    <tr>\n",
       "      <th>868</th>\n",
       "      <td>0</td>\n",
       "      <td>36</td>\n",
       "      <td>46900.0</td>\n",
       "      <td>2</td>\n",
       "      <td>0</td>\n",
       "      <td>5.099020</td>\n",
       "    </tr>\n",
       "    <tr>\n",
       "      <th>2364</th>\n",
       "      <td>1</td>\n",
       "      <td>26</td>\n",
       "      <td>46900.0</td>\n",
       "      <td>3</td>\n",
       "      <td>0</td>\n",
       "      <td>5.099020</td>\n",
       "    </tr>\n",
       "    <tr>\n",
       "      <th>3407</th>\n",
       "      <td>0</td>\n",
       "      <td>25</td>\n",
       "      <td>46900.0</td>\n",
       "      <td>3</td>\n",
       "      <td>0</td>\n",
       "      <td>6.164414</td>\n",
       "    </tr>\n",
       "    <tr>\n",
       "      <th>4077</th>\n",
       "      <td>1</td>\n",
       "      <td>23</td>\n",
       "      <td>46900.0</td>\n",
       "      <td>0</td>\n",
       "      <td>0</td>\n",
       "      <td>8.246211</td>\n",
       "    </tr>\n",
       "    <tr>\n",
       "      <th>2912</th>\n",
       "      <td>1</td>\n",
       "      <td>42</td>\n",
       "      <td>46900.0</td>\n",
       "      <td>0</td>\n",
       "      <td>1</td>\n",
       "      <td>11.180340</td>\n",
       "    </tr>\n",
       "    <tr>\n",
       "      <th>886</th>\n",
       "      <td>0</td>\n",
       "      <td>18</td>\n",
       "      <td>46900.0</td>\n",
       "      <td>1</td>\n",
       "      <td>0</td>\n",
       "      <td>13.076697</td>\n",
       "    </tr>\n",
       "    <tr>\n",
       "      <th>1503</th>\n",
       "      <td>1</td>\n",
       "      <td>32</td>\n",
       "      <td>46800.0</td>\n",
       "      <td>3</td>\n",
       "      <td>0</td>\n",
       "      <td>100.010000</td>\n",
       "    </tr>\n",
       "    <tr>\n",
       "      <th>2817</th>\n",
       "      <td>1</td>\n",
       "      <td>30</td>\n",
       "      <td>46800.0</td>\n",
       "      <td>1</td>\n",
       "      <td>0</td>\n",
       "      <td>100.010000</td>\n",
       "    </tr>\n",
       "  </tbody>\n",
       "</table>\n",
       "</div>"
      ],
      "text/plain": [
       "      gender  age   income  family_members  insurance_benefits    distance\n",
       "4649       1   31  46900.0               2                   0    0.000000\n",
       "725        0   29  46900.0               1                   0    2.449490\n",
       "1262       0   30  46900.0               0                   0    2.449490\n",
       "868        0   36  46900.0               2                   0    5.099020\n",
       "2364       1   26  46900.0               3                   0    5.099020\n",
       "3407       0   25  46900.0               3                   0    6.164414\n",
       "4077       1   23  46900.0               0                   0    8.246211\n",
       "2912       1   42  46900.0               0                   1   11.180340\n",
       "886        0   18  46900.0               1                   0   13.076697\n",
       "1503       1   32  46800.0               3                   0  100.010000\n",
       "2817       1   30  46800.0               1                   0  100.010000"
      ]
     },
     "execution_count": 14,
     "metadata": {},
     "output_type": "execute_result"
    }
   ],
   "source": [
    "# display euclidean distance with unscaled data\n",
    "\n",
    "get_knn(df, 4649, 11, 'euclidean')"
   ]
  },
  {
   "cell_type": "code",
   "execution_count": 15,
   "metadata": {},
   "outputs": [
    {
     "data": {
      "text/html": [
       "<div>\n",
       "<style scoped>\n",
       "    .dataframe tbody tr th:only-of-type {\n",
       "        vertical-align: middle;\n",
       "    }\n",
       "\n",
       "    .dataframe tbody tr th {\n",
       "        vertical-align: top;\n",
       "    }\n",
       "\n",
       "    .dataframe thead th {\n",
       "        text-align: right;\n",
       "    }\n",
       "</style>\n",
       "<table border=\"1\" class=\"dataframe\">\n",
       "  <thead>\n",
       "    <tr style=\"text-align: right;\">\n",
       "      <th></th>\n",
       "      <th>gender</th>\n",
       "      <th>age</th>\n",
       "      <th>income</th>\n",
       "      <th>family_members</th>\n",
       "      <th>insurance_benefits</th>\n",
       "      <th>distance</th>\n",
       "    </tr>\n",
       "  </thead>\n",
       "  <tbody>\n",
       "    <tr>\n",
       "      <th>4649</th>\n",
       "      <td>1</td>\n",
       "      <td>31</td>\n",
       "      <td>46900.0</td>\n",
       "      <td>2</td>\n",
       "      <td>0</td>\n",
       "      <td>0.0</td>\n",
       "    </tr>\n",
       "    <tr>\n",
       "      <th>725</th>\n",
       "      <td>0</td>\n",
       "      <td>29</td>\n",
       "      <td>46900.0</td>\n",
       "      <td>1</td>\n",
       "      <td>0</td>\n",
       "      <td>4.0</td>\n",
       "    </tr>\n",
       "    <tr>\n",
       "      <th>1262</th>\n",
       "      <td>0</td>\n",
       "      <td>30</td>\n",
       "      <td>46900.0</td>\n",
       "      <td>0</td>\n",
       "      <td>0</td>\n",
       "      <td>4.0</td>\n",
       "    </tr>\n",
       "    <tr>\n",
       "      <th>2364</th>\n",
       "      <td>1</td>\n",
       "      <td>26</td>\n",
       "      <td>46900.0</td>\n",
       "      <td>3</td>\n",
       "      <td>0</td>\n",
       "      <td>6.0</td>\n",
       "    </tr>\n",
       "    <tr>\n",
       "      <th>868</th>\n",
       "      <td>0</td>\n",
       "      <td>36</td>\n",
       "      <td>46900.0</td>\n",
       "      <td>2</td>\n",
       "      <td>0</td>\n",
       "      <td>6.0</td>\n",
       "    </tr>\n",
       "    <tr>\n",
       "      <th>3407</th>\n",
       "      <td>0</td>\n",
       "      <td>25</td>\n",
       "      <td>46900.0</td>\n",
       "      <td>3</td>\n",
       "      <td>0</td>\n",
       "      <td>8.0</td>\n",
       "    </tr>\n",
       "    <tr>\n",
       "      <th>4077</th>\n",
       "      <td>1</td>\n",
       "      <td>23</td>\n",
       "      <td>46900.0</td>\n",
       "      <td>0</td>\n",
       "      <td>0</td>\n",
       "      <td>10.0</td>\n",
       "    </tr>\n",
       "    <tr>\n",
       "      <th>2912</th>\n",
       "      <td>1</td>\n",
       "      <td>42</td>\n",
       "      <td>46900.0</td>\n",
       "      <td>0</td>\n",
       "      <td>1</td>\n",
       "      <td>13.0</td>\n",
       "    </tr>\n",
       "    <tr>\n",
       "      <th>886</th>\n",
       "      <td>0</td>\n",
       "      <td>18</td>\n",
       "      <td>46900.0</td>\n",
       "      <td>1</td>\n",
       "      <td>0</td>\n",
       "      <td>15.0</td>\n",
       "    </tr>\n",
       "    <tr>\n",
       "      <th>1503</th>\n",
       "      <td>1</td>\n",
       "      <td>32</td>\n",
       "      <td>46800.0</td>\n",
       "      <td>3</td>\n",
       "      <td>0</td>\n",
       "      <td>102.0</td>\n",
       "    </tr>\n",
       "    <tr>\n",
       "      <th>2817</th>\n",
       "      <td>1</td>\n",
       "      <td>30</td>\n",
       "      <td>46800.0</td>\n",
       "      <td>1</td>\n",
       "      <td>0</td>\n",
       "      <td>102.0</td>\n",
       "    </tr>\n",
       "  </tbody>\n",
       "</table>\n",
       "</div>"
      ],
      "text/plain": [
       "      gender  age   income  family_members  insurance_benefits  distance\n",
       "4649       1   31  46900.0               2                   0       0.0\n",
       "725        0   29  46900.0               1                   0       4.0\n",
       "1262       0   30  46900.0               0                   0       4.0\n",
       "2364       1   26  46900.0               3                   0       6.0\n",
       "868        0   36  46900.0               2                   0       6.0\n",
       "3407       0   25  46900.0               3                   0       8.0\n",
       "4077       1   23  46900.0               0                   0      10.0\n",
       "2912       1   42  46900.0               0                   1      13.0\n",
       "886        0   18  46900.0               1                   0      15.0\n",
       "1503       1   32  46800.0               3                   0     102.0\n",
       "2817       1   30  46800.0               1                   0     102.0"
      ]
     },
     "execution_count": 15,
     "metadata": {},
     "output_type": "execute_result"
    }
   ],
   "source": [
    "# manhattan distance for the same point\n",
    "\n",
    "get_knn(df, 4649, 11, 'manhattan')"
   ]
  },
  {
   "cell_type": "markdown",
   "metadata": {},
   "source": [
    "Scaling the data."
   ]
  },
  {
   "cell_type": "code",
   "execution_count": 16,
   "metadata": {},
   "outputs": [],
   "source": [
    "feature_names = ['gender', 'age', 'income', 'family_members']\n",
    "\n",
    "transformer_mas = sklearn.preprocessing.MaxAbsScaler().fit(df[feature_names].to_numpy())\n",
    "\n",
    "df_scaled = df.copy()\n",
    "df_scaled.loc[:, feature_names] = transformer_mas.transform(df[feature_names].to_numpy())"
   ]
  },
  {
   "cell_type": "code",
   "execution_count": 17,
   "metadata": {},
   "outputs": [
    {
     "data": {
      "text/html": [
       "<div>\n",
       "<style scoped>\n",
       "    .dataframe tbody tr th:only-of-type {\n",
       "        vertical-align: middle;\n",
       "    }\n",
       "\n",
       "    .dataframe tbody tr th {\n",
       "        vertical-align: top;\n",
       "    }\n",
       "\n",
       "    .dataframe thead th {\n",
       "        text-align: right;\n",
       "    }\n",
       "</style>\n",
       "<table border=\"1\" class=\"dataframe\">\n",
       "  <thead>\n",
       "    <tr style=\"text-align: right;\">\n",
       "      <th></th>\n",
       "      <th>gender</th>\n",
       "      <th>age</th>\n",
       "      <th>income</th>\n",
       "      <th>family_members</th>\n",
       "      <th>insurance_benefits</th>\n",
       "    </tr>\n",
       "  </thead>\n",
       "  <tbody>\n",
       "    <tr>\n",
       "      <th>1930</th>\n",
       "      <td>1.0</td>\n",
       "      <td>0.292308</td>\n",
       "      <td>0.570886</td>\n",
       "      <td>0.166667</td>\n",
       "      <td>0</td>\n",
       "    </tr>\n",
       "    <tr>\n",
       "      <th>2628</th>\n",
       "      <td>0.0</td>\n",
       "      <td>0.630769</td>\n",
       "      <td>0.575949</td>\n",
       "      <td>0.000000</td>\n",
       "      <td>0</td>\n",
       "    </tr>\n",
       "    <tr>\n",
       "      <th>3428</th>\n",
       "      <td>1.0</td>\n",
       "      <td>0.384615</td>\n",
       "      <td>0.694937</td>\n",
       "      <td>0.000000</td>\n",
       "      <td>0</td>\n",
       "    </tr>\n",
       "    <tr>\n",
       "      <th>792</th>\n",
       "      <td>1.0</td>\n",
       "      <td>0.584615</td>\n",
       "      <td>0.483544</td>\n",
       "      <td>0.166667</td>\n",
       "      <td>0</td>\n",
       "    </tr>\n",
       "    <tr>\n",
       "      <th>2984</th>\n",
       "      <td>1.0</td>\n",
       "      <td>0.507692</td>\n",
       "      <td>0.354430</td>\n",
       "      <td>0.166667</td>\n",
       "      <td>0</td>\n",
       "    </tr>\n",
       "  </tbody>\n",
       "</table>\n",
       "</div>"
      ],
      "text/plain": [
       "      gender       age    income  family_members  insurance_benefits\n",
       "1930     1.0  0.292308  0.570886        0.166667                   0\n",
       "2628     0.0  0.630769  0.575949        0.000000                   0\n",
       "3428     1.0  0.384615  0.694937        0.000000                   0\n",
       "792      1.0  0.584615  0.483544        0.166667                   0\n",
       "2984     1.0  0.507692  0.354430        0.166667                   0"
      ]
     },
     "execution_count": 17,
     "metadata": {},
     "output_type": "execute_result"
    }
   ],
   "source": [
    "df_scaled.sample(5)"
   ]
  },
  {
   "cell_type": "markdown",
   "metadata": {},
   "source": [
    "Now, let's get similar records for a given one for every combination"
   ]
  },
  {
   "cell_type": "code",
   "execution_count": 18,
   "metadata": {},
   "outputs": [
    {
     "data": {
      "text/html": [
       "<div>\n",
       "<style scoped>\n",
       "    .dataframe tbody tr th:only-of-type {\n",
       "        vertical-align: middle;\n",
       "    }\n",
       "\n",
       "    .dataframe tbody tr th {\n",
       "        vertical-align: top;\n",
       "    }\n",
       "\n",
       "    .dataframe thead th {\n",
       "        text-align: right;\n",
       "    }\n",
       "</style>\n",
       "<table border=\"1\" class=\"dataframe\">\n",
       "  <thead>\n",
       "    <tr style=\"text-align: right;\">\n",
       "      <th></th>\n",
       "      <th>gender</th>\n",
       "      <th>age</th>\n",
       "      <th>income</th>\n",
       "      <th>family_members</th>\n",
       "      <th>insurance_benefits</th>\n",
       "      <th>distance</th>\n",
       "    </tr>\n",
       "  </thead>\n",
       "  <tbody>\n",
       "    <tr>\n",
       "      <th>4649</th>\n",
       "      <td>1.0</td>\n",
       "      <td>0.476923</td>\n",
       "      <td>0.593671</td>\n",
       "      <td>0.333333</td>\n",
       "      <td>0</td>\n",
       "      <td>0.000000</td>\n",
       "    </tr>\n",
       "    <tr>\n",
       "      <th>1620</th>\n",
       "      <td>1.0</td>\n",
       "      <td>0.476923</td>\n",
       "      <td>0.605063</td>\n",
       "      <td>0.333333</td>\n",
       "      <td>0</td>\n",
       "      <td>0.011392</td>\n",
       "    </tr>\n",
       "    <tr>\n",
       "      <th>2556</th>\n",
       "      <td>1.0</td>\n",
       "      <td>0.492308</td>\n",
       "      <td>0.589873</td>\n",
       "      <td>0.333333</td>\n",
       "      <td>0</td>\n",
       "      <td>0.015846</td>\n",
       "    </tr>\n",
       "    <tr>\n",
       "      <th>2566</th>\n",
       "      <td>1.0</td>\n",
       "      <td>0.461538</td>\n",
       "      <td>0.589873</td>\n",
       "      <td>0.333333</td>\n",
       "      <td>0</td>\n",
       "      <td>0.015846</td>\n",
       "    </tr>\n",
       "    <tr>\n",
       "      <th>434</th>\n",
       "      <td>1.0</td>\n",
       "      <td>0.492308</td>\n",
       "      <td>0.608861</td>\n",
       "      <td>0.333333</td>\n",
       "      <td>0</td>\n",
       "      <td>0.021620</td>\n",
       "    </tr>\n",
       "    <tr>\n",
       "      <th>4870</th>\n",
       "      <td>1.0</td>\n",
       "      <td>0.476923</td>\n",
       "      <td>0.622785</td>\n",
       "      <td>0.333333</td>\n",
       "      <td>0</td>\n",
       "      <td>0.029114</td>\n",
       "    </tr>\n",
       "    <tr>\n",
       "      <th>4577</th>\n",
       "      <td>1.0</td>\n",
       "      <td>0.476923</td>\n",
       "      <td>0.564557</td>\n",
       "      <td>0.333333</td>\n",
       "      <td>0</td>\n",
       "      <td>0.029114</td>\n",
       "    </tr>\n",
       "    <tr>\n",
       "      <th>1804</th>\n",
       "      <td>1.0</td>\n",
       "      <td>0.507692</td>\n",
       "      <td>0.591139</td>\n",
       "      <td>0.333333</td>\n",
       "      <td>0</td>\n",
       "      <td>0.030873</td>\n",
       "    </tr>\n",
       "    <tr>\n",
       "      <th>2646</th>\n",
       "      <td>1.0</td>\n",
       "      <td>0.507692</td>\n",
       "      <td>0.601266</td>\n",
       "      <td>0.333333</td>\n",
       "      <td>0</td>\n",
       "      <td>0.031693</td>\n",
       "    </tr>\n",
       "    <tr>\n",
       "      <th>1395</th>\n",
       "      <td>1.0</td>\n",
       "      <td>0.492308</td>\n",
       "      <td>0.563291</td>\n",
       "      <td>0.333333</td>\n",
       "      <td>0</td>\n",
       "      <td>0.034053</td>\n",
       "    </tr>\n",
       "    <tr>\n",
       "      <th>1763</th>\n",
       "      <td>1.0</td>\n",
       "      <td>0.446154</td>\n",
       "      <td>0.608861</td>\n",
       "      <td>0.333333</td>\n",
       "      <td>0</td>\n",
       "      <td>0.034314</td>\n",
       "    </tr>\n",
       "  </tbody>\n",
       "</table>\n",
       "</div>"
      ],
      "text/plain": [
       "      gender       age    income  family_members  insurance_benefits  distance\n",
       "4649     1.0  0.476923  0.593671        0.333333                   0  0.000000\n",
       "1620     1.0  0.476923  0.605063        0.333333                   0  0.011392\n",
       "2556     1.0  0.492308  0.589873        0.333333                   0  0.015846\n",
       "2566     1.0  0.461538  0.589873        0.333333                   0  0.015846\n",
       "434      1.0  0.492308  0.608861        0.333333                   0  0.021620\n",
       "4870     1.0  0.476923  0.622785        0.333333                   0  0.029114\n",
       "4577     1.0  0.476923  0.564557        0.333333                   0  0.029114\n",
       "1804     1.0  0.507692  0.591139        0.333333                   0  0.030873\n",
       "2646     1.0  0.507692  0.601266        0.333333                   0  0.031693\n",
       "1395     1.0  0.492308  0.563291        0.333333                   0  0.034053\n",
       "1763     1.0  0.446154  0.608861        0.333333                   0  0.034314"
      ]
     },
     "execution_count": 18,
     "metadata": {},
     "output_type": "execute_result"
    }
   ],
   "source": [
    "get_knn(df_scaled, 4649, 11, 'euclidean')"
   ]
  },
  {
   "cell_type": "code",
   "execution_count": 19,
   "metadata": {},
   "outputs": [
    {
     "data": {
      "text/html": [
       "<div>\n",
       "<style scoped>\n",
       "    .dataframe tbody tr th:only-of-type {\n",
       "        vertical-align: middle;\n",
       "    }\n",
       "\n",
       "    .dataframe tbody tr th {\n",
       "        vertical-align: top;\n",
       "    }\n",
       "\n",
       "    .dataframe thead th {\n",
       "        text-align: right;\n",
       "    }\n",
       "</style>\n",
       "<table border=\"1\" class=\"dataframe\">\n",
       "  <thead>\n",
       "    <tr style=\"text-align: right;\">\n",
       "      <th></th>\n",
       "      <th>gender</th>\n",
       "      <th>age</th>\n",
       "      <th>income</th>\n",
       "      <th>family_members</th>\n",
       "      <th>insurance_benefits</th>\n",
       "      <th>distance</th>\n",
       "    </tr>\n",
       "  </thead>\n",
       "  <tbody>\n",
       "    <tr>\n",
       "      <th>4649</th>\n",
       "      <td>1.0</td>\n",
       "      <td>0.476923</td>\n",
       "      <td>0.593671</td>\n",
       "      <td>0.333333</td>\n",
       "      <td>0</td>\n",
       "      <td>0.000000</td>\n",
       "    </tr>\n",
       "    <tr>\n",
       "      <th>1620</th>\n",
       "      <td>1.0</td>\n",
       "      <td>0.476923</td>\n",
       "      <td>0.605063</td>\n",
       "      <td>0.333333</td>\n",
       "      <td>0</td>\n",
       "      <td>0.011392</td>\n",
       "    </tr>\n",
       "    <tr>\n",
       "      <th>2556</th>\n",
       "      <td>1.0</td>\n",
       "      <td>0.492308</td>\n",
       "      <td>0.589873</td>\n",
       "      <td>0.333333</td>\n",
       "      <td>0</td>\n",
       "      <td>0.019182</td>\n",
       "    </tr>\n",
       "    <tr>\n",
       "      <th>2566</th>\n",
       "      <td>1.0</td>\n",
       "      <td>0.461538</td>\n",
       "      <td>0.589873</td>\n",
       "      <td>0.333333</td>\n",
       "      <td>0</td>\n",
       "      <td>0.019182</td>\n",
       "    </tr>\n",
       "    <tr>\n",
       "      <th>4870</th>\n",
       "      <td>1.0</td>\n",
       "      <td>0.476923</td>\n",
       "      <td>0.622785</td>\n",
       "      <td>0.333333</td>\n",
       "      <td>0</td>\n",
       "      <td>0.029114</td>\n",
       "    </tr>\n",
       "    <tr>\n",
       "      <th>4577</th>\n",
       "      <td>1.0</td>\n",
       "      <td>0.476923</td>\n",
       "      <td>0.564557</td>\n",
       "      <td>0.333333</td>\n",
       "      <td>0</td>\n",
       "      <td>0.029114</td>\n",
       "    </tr>\n",
       "    <tr>\n",
       "      <th>434</th>\n",
       "      <td>1.0</td>\n",
       "      <td>0.492308</td>\n",
       "      <td>0.608861</td>\n",
       "      <td>0.333333</td>\n",
       "      <td>0</td>\n",
       "      <td>0.030574</td>\n",
       "    </tr>\n",
       "    <tr>\n",
       "      <th>1804</th>\n",
       "      <td>1.0</td>\n",
       "      <td>0.507692</td>\n",
       "      <td>0.591139</td>\n",
       "      <td>0.333333</td>\n",
       "      <td>0</td>\n",
       "      <td>0.033301</td>\n",
       "    </tr>\n",
       "    <tr>\n",
       "      <th>2646</th>\n",
       "      <td>1.0</td>\n",
       "      <td>0.507692</td>\n",
       "      <td>0.601266</td>\n",
       "      <td>0.333333</td>\n",
       "      <td>0</td>\n",
       "      <td>0.038364</td>\n",
       "    </tr>\n",
       "    <tr>\n",
       "      <th>1395</th>\n",
       "      <td>1.0</td>\n",
       "      <td>0.492308</td>\n",
       "      <td>0.563291</td>\n",
       "      <td>0.333333</td>\n",
       "      <td>0</td>\n",
       "      <td>0.045764</td>\n",
       "    </tr>\n",
       "    <tr>\n",
       "      <th>4043</th>\n",
       "      <td>1.0</td>\n",
       "      <td>0.446154</td>\n",
       "      <td>0.608861</td>\n",
       "      <td>0.333333</td>\n",
       "      <td>0</td>\n",
       "      <td>0.045959</td>\n",
       "    </tr>\n",
       "  </tbody>\n",
       "</table>\n",
       "</div>"
      ],
      "text/plain": [
       "      gender       age    income  family_members  insurance_benefits  distance\n",
       "4649     1.0  0.476923  0.593671        0.333333                   0  0.000000\n",
       "1620     1.0  0.476923  0.605063        0.333333                   0  0.011392\n",
       "2556     1.0  0.492308  0.589873        0.333333                   0  0.019182\n",
       "2566     1.0  0.461538  0.589873        0.333333                   0  0.019182\n",
       "4870     1.0  0.476923  0.622785        0.333333                   0  0.029114\n",
       "4577     1.0  0.476923  0.564557        0.333333                   0  0.029114\n",
       "434      1.0  0.492308  0.608861        0.333333                   0  0.030574\n",
       "1804     1.0  0.507692  0.591139        0.333333                   0  0.033301\n",
       "2646     1.0  0.507692  0.601266        0.333333                   0  0.038364\n",
       "1395     1.0  0.492308  0.563291        0.333333                   0  0.045764\n",
       "4043     1.0  0.446154  0.608861        0.333333                   0  0.045959"
      ]
     },
     "execution_count": 19,
     "metadata": {},
     "output_type": "execute_result"
    }
   ],
   "source": [
    "get_knn(df_scaled, 4649, 11, 'manhattan')"
   ]
  },
  {
   "cell_type": "markdown",
   "metadata": {},
   "source": [
    "Answers to the questions"
   ]
  },
  {
   "cell_type": "markdown",
   "metadata": {},
   "source": [
    "**Does the data being not scaled affect the kNN algorithm? If so, how does that appear?** \n",
    "\n",
    "After scaling the data, we see that the K-nearest neighbors does result in different values being identified as the nearest neighbors. The relative distance we see has not just been scaled but it has, in fact, become quite a bit smaller. We can see that in the unscaled algorithm, we have values that are factors of ten farther away whereas for the scaled version, all the units are within the same factor.\n",
    "\n",
    "This would mean that after scaling the data, not only are we getting different points but the ones we are identify are closer together not only on an absolute level but also relatively.\n",
    "\n",
    "It seems that for the nearest neighbors that the number of benefits is the strongest correlation but that is also a result of most of the values being 0. The same goes for family members, which we see in the scaled data has a uniform 0.33 result. Interestingly, after scaling the data we see that the nearest neighbors all end up sharing the same gender as the original value, which might be a result of the data points all being closer together. Also, there are fewer unique values in those factors in the data overall, so they are more arbitrary. Since both of those have very few different observations, though, they likely are not the primarily important parameter, in particular because both could also be dependent on the other two predictors - income and age.\n",
    "\n",
    "Income appears to be the strongest factor overall, with it on the unscaled data being identical for all of the 10 nearest neighbors. Age is the next strongest."
   ]
  },
  {
   "cell_type": "markdown",
   "metadata": {},
   "source": [
    "**How similar are the results using the Manhattan distance metric (regardless of the scaling)?** \n",
    "\n",
    "Regardless of the scaling, it appears that the Manhattan distance returns mostly the same points as the Euclidean. The only time there is a difference is that the 10th nearest neighbor is different for the scaled data, and also that in the scaled data the order of some of the neighbors (specifically point 434, 4870, and 4577) are different."
   ]
  },
  {
   "cell_type": "markdown",
   "metadata": {},
   "source": [
    "# Task 2. Is Customer Likely to Receive Insurance Benefit?"
   ]
  },
  {
   "cell_type": "markdown",
   "metadata": {},
   "source": [
    "In terms of machine learning we can look at this like a binary classification task."
   ]
  },
  {
   "cell_type": "markdown",
   "metadata": {},
   "source": [
    "With `insurance_benefits` being more than zero as the target, we will evaluate whether the kNN classification approach can do better than a dummy model.\n",
    "\n",
    "Procedures:\n",
    "- Build a KNN-based classifier and measure its quality with the F1 metric for k=1..10 for both the original data and the scaled one. That'd be interesting to see how k may influece the evaluation metric, and whether scaling the data makes any difference.\n",
    "- Build the dummy model which is just random for this case. It should return \"1\" with some probability. Let's test the model with four probability values: 0, the probability of paying any insurance benefit, 0.5, 1.\n",
    "\n",
    "The probability of paying any insurance benefit can be defined as\n",
    "\n",
    "$$\n",
    "P\\{\\text{insurance benefit received}\\}=\\frac{\\text{number of clients received any insurance benefit}}{\\text{total number of clients}}.\n",
    "$$\n",
    "\n",
    "We will split the whole data in the 70:30 proportion for the training/testing parts."
   ]
  },
  {
   "cell_type": "code",
   "execution_count": 21,
   "metadata": {},
   "outputs": [],
   "source": [
    "# calculate the target\n",
    "\n",
    "# create column for # of clients who received insurance benefits\n",
    "\n",
    "df['insurance_benefits_received'] = df['insurance_benefits'] >= 1\n",
    "\n",
    "# convert that column to numeric\n",
    "\n",
    "df['insurance_benefits_received'] = df['insurance_benefits_received'].astype('int')\n",
    "\n",
    "# repeat for the scaled data frame\n",
    "\n",
    "df_scaled['insurance_benefits_received'] = df_scaled['insurance_benefits'] >= 1\n",
    "df_scaled['insurance_benefits_received'] = df_scaled['insurance_benefits_received'].astype('int')"
   ]
  },
  {
   "cell_type": "code",
   "execution_count": 22,
   "metadata": {},
   "outputs": [
    {
     "data": {
      "text/html": [
       "<div>\n",
       "<style scoped>\n",
       "    .dataframe tbody tr th:only-of-type {\n",
       "        vertical-align: middle;\n",
       "    }\n",
       "\n",
       "    .dataframe tbody tr th {\n",
       "        vertical-align: top;\n",
       "    }\n",
       "\n",
       "    .dataframe thead th {\n",
       "        text-align: right;\n",
       "    }\n",
       "</style>\n",
       "<table border=\"1\" class=\"dataframe\">\n",
       "  <thead>\n",
       "    <tr style=\"text-align: right;\">\n",
       "      <th></th>\n",
       "      <th>gender</th>\n",
       "      <th>age</th>\n",
       "      <th>income</th>\n",
       "      <th>family_members</th>\n",
       "      <th>insurance_benefits</th>\n",
       "      <th>insurance_benefits_received</th>\n",
       "    </tr>\n",
       "  </thead>\n",
       "  <tbody>\n",
       "    <tr>\n",
       "      <th>0</th>\n",
       "      <td>1</td>\n",
       "      <td>41</td>\n",
       "      <td>49600.0</td>\n",
       "      <td>1</td>\n",
       "      <td>0</td>\n",
       "      <td>0</td>\n",
       "    </tr>\n",
       "    <tr>\n",
       "      <th>1</th>\n",
       "      <td>0</td>\n",
       "      <td>46</td>\n",
       "      <td>38000.0</td>\n",
       "      <td>1</td>\n",
       "      <td>1</td>\n",
       "      <td>1</td>\n",
       "    </tr>\n",
       "    <tr>\n",
       "      <th>2</th>\n",
       "      <td>0</td>\n",
       "      <td>29</td>\n",
       "      <td>21000.0</td>\n",
       "      <td>0</td>\n",
       "      <td>0</td>\n",
       "      <td>0</td>\n",
       "    </tr>\n",
       "    <tr>\n",
       "      <th>3</th>\n",
       "      <td>0</td>\n",
       "      <td>21</td>\n",
       "      <td>41700.0</td>\n",
       "      <td>2</td>\n",
       "      <td>0</td>\n",
       "      <td>0</td>\n",
       "    </tr>\n",
       "    <tr>\n",
       "      <th>4</th>\n",
       "      <td>1</td>\n",
       "      <td>28</td>\n",
       "      <td>26100.0</td>\n",
       "      <td>0</td>\n",
       "      <td>0</td>\n",
       "      <td>0</td>\n",
       "    </tr>\n",
       "    <tr>\n",
       "      <th>...</th>\n",
       "      <td>...</td>\n",
       "      <td>...</td>\n",
       "      <td>...</td>\n",
       "      <td>...</td>\n",
       "      <td>...</td>\n",
       "      <td>...</td>\n",
       "    </tr>\n",
       "    <tr>\n",
       "      <th>4995</th>\n",
       "      <td>0</td>\n",
       "      <td>28</td>\n",
       "      <td>35700.0</td>\n",
       "      <td>2</td>\n",
       "      <td>0</td>\n",
       "      <td>0</td>\n",
       "    </tr>\n",
       "    <tr>\n",
       "      <th>4996</th>\n",
       "      <td>0</td>\n",
       "      <td>34</td>\n",
       "      <td>52400.0</td>\n",
       "      <td>1</td>\n",
       "      <td>0</td>\n",
       "      <td>0</td>\n",
       "    </tr>\n",
       "    <tr>\n",
       "      <th>4997</th>\n",
       "      <td>0</td>\n",
       "      <td>20</td>\n",
       "      <td>33900.0</td>\n",
       "      <td>2</td>\n",
       "      <td>0</td>\n",
       "      <td>0</td>\n",
       "    </tr>\n",
       "    <tr>\n",
       "      <th>4998</th>\n",
       "      <td>1</td>\n",
       "      <td>22</td>\n",
       "      <td>32700.0</td>\n",
       "      <td>3</td>\n",
       "      <td>0</td>\n",
       "      <td>0</td>\n",
       "    </tr>\n",
       "    <tr>\n",
       "      <th>4999</th>\n",
       "      <td>1</td>\n",
       "      <td>28</td>\n",
       "      <td>40600.0</td>\n",
       "      <td>1</td>\n",
       "      <td>0</td>\n",
       "      <td>0</td>\n",
       "    </tr>\n",
       "  </tbody>\n",
       "</table>\n",
       "<p>5000 rows × 6 columns</p>\n",
       "</div>"
      ],
      "text/plain": [
       "      gender  age   income  family_members  insurance_benefits  \\\n",
       "0          1   41  49600.0               1                   0   \n",
       "1          0   46  38000.0               1                   1   \n",
       "2          0   29  21000.0               0                   0   \n",
       "3          0   21  41700.0               2                   0   \n",
       "4          1   28  26100.0               0                   0   \n",
       "...      ...  ...      ...             ...                 ...   \n",
       "4995       0   28  35700.0               2                   0   \n",
       "4996       0   34  52400.0               1                   0   \n",
       "4997       0   20  33900.0               2                   0   \n",
       "4998       1   22  32700.0               3                   0   \n",
       "4999       1   28  40600.0               1                   0   \n",
       "\n",
       "      insurance_benefits_received  \n",
       "0                               0  \n",
       "1                               1  \n",
       "2                               0  \n",
       "3                               0  \n",
       "4                               0  \n",
       "...                           ...  \n",
       "4995                            0  \n",
       "4996                            0  \n",
       "4997                            0  \n",
       "4998                            0  \n",
       "4999                            0  \n",
       "\n",
       "[5000 rows x 6 columns]"
      ]
     },
     "execution_count": 22,
     "metadata": {},
     "output_type": "execute_result"
    }
   ],
   "source": [
    "df"
   ]
  },
  {
   "cell_type": "code",
   "execution_count": 21,
   "metadata": {},
   "outputs": [
    {
     "name": "stdout",
     "output_type": "stream",
     "text": [
      "0    4436\n",
      "1     564\n",
      "Name: insurance_benefits_received, dtype: int64\n",
      "\n",
      "0    0.8872\n",
      "1    0.1128\n",
      "Name: insurance_benefits_received, dtype: float64\n"
     ]
    }
   ],
   "source": [
    "# check for the class imbalance with value_counts()\n",
    "\n",
    "print(df['insurance_benefits_received'].value_counts())\n",
    "print()\n",
    "print(df['insurance_benefits_received'].value_counts(normalize=True))"
   ]
  },
  {
   "cell_type": "markdown",
   "metadata": {},
   "source": [
    "Since the data is unbalanced with most of our targets being = 0, we can use the stratify parameter when splitting our training and test set."
   ]
  },
  {
   "cell_type": "code",
   "execution_count": 29,
   "metadata": {},
   "outputs": [
    {
     "name": "stdout",
     "output_type": "stream",
     "text": [
      "(3500, 4) (3500,)\n",
      "(1500, 4) (1500,)\n"
     ]
    }
   ],
   "source": [
    "# split into features and target\n",
    "\n",
    "features = df.drop(['insurance_benefits_received', 'insurance_benefits'], axis=1)\n",
    "target = df['insurance_benefits_received']\n",
    "\n",
    "# split into training and test set\n",
    "\n",
    "features_train, features_test, target_train, target_test = train_test_split(features, target, \n",
    "                                                                            test_size = 0.3, random_state = 12345, \n",
    "                                                                            stratify = target)\n",
    "\n",
    "# check the shape of the data\n",
    "\n",
    "print(features_train.shape, target_train.shape)\n",
    "print(features_test.shape, target_test.shape)"
   ]
  },
  {
   "cell_type": "code",
   "execution_count": 30,
   "metadata": {},
   "outputs": [],
   "source": [
    "def eval_classifier(y_true, y_pred):\n",
    "    \n",
    "    f1_score = sklearn.metrics.f1_score(y_true, y_pred)\n",
    "    print(f'F1: {f1_score:.2f}')\n",
    "    \n",
    "# if you have an issue with the following line, restart the kernel and run the notebook again\n",
    "    cm = sklearn.metrics.confusion_matrix(y_true, y_pred, normalize='all')\n",
    "    print('Confusion Matrix')\n",
    "    print(cm)"
   ]
  },
  {
   "cell_type": "code",
   "execution_count": 31,
   "metadata": {},
   "outputs": [],
   "source": [
    "# generating output of a random model\n",
    "\n",
    "def rnd_model_predict(P, size, seed = 12345):\n",
    "\n",
    "    rng = np.random.default_rng(seed = seed)\n",
    "    return rng.binomial(n=1, p=P, size=size)"
   ]
  },
  {
   "cell_type": "code",
   "execution_count": 32,
   "metadata": {
    "scrolled": true
   },
   "outputs": [
    {
     "name": "stdout",
     "output_type": "stream",
     "text": [
      "The probability: 0.00\n",
      "F1: 0.00\n",
      "Confusion Matrix\n",
      "[[0.8872 0.    ]\n",
      " [0.1128 0.    ]]\n",
      "\n",
      "The probability: 0.11\n",
      "F1: 0.12\n",
      "Confusion Matrix\n",
      "[[0.793  0.0942]\n",
      " [0.0992 0.0136]]\n",
      "\n",
      "The probability: 0.50\n",
      "F1: 0.18\n",
      "Confusion Matrix\n",
      "[[0.4516 0.4356]\n",
      " [0.0584 0.0544]]\n",
      "\n",
      "The probability: 1.00\n",
      "F1: 0.20\n",
      "Confusion Matrix\n",
      "[[0.     0.8872]\n",
      " [0.     0.1128]]\n",
      "\n"
     ]
    }
   ],
   "source": [
    "for P in [0, df['insurance_benefits_received'].sum() / len(df), 0.5, 1]:\n",
    "\n",
    "    print(f'The probability: {P:.2f}')\n",
    "    y_pred_rnd = rnd_model_predict(P, features.shape[0])\n",
    "        \n",
    "    eval_classifier(df['insurance_benefits_received'], y_pred_rnd)\n",
    "    \n",
    "    print()"
   ]
  },
  {
   "cell_type": "markdown",
   "metadata": {},
   "source": [
    "The RNG model gives us these confusion matrices. The highest accuracy model is the one where it assumes that none of the customers recieved an insurance benefit (which is necessary for an insurance company to sustain itself) but that means that we can likely make a model that is rather accurate if we take into account our data."
   ]
  },
  {
   "cell_type": "markdown",
   "metadata": {},
   "source": [
    "### Test with KNN"
   ]
  },
  {
   "cell_type": "code",
   "execution_count": 33,
   "metadata": {},
   "outputs": [
    {
     "name": "stdout",
     "output_type": "stream",
     "text": [
      "Neighbors: 1 \n",
      " F1: 0.5852\n",
      "\n",
      "Neighbors: 2 \n",
      " F1: 0.3927\n",
      "\n",
      "Neighbors: 3 \n",
      " F1: 0.3966\n",
      "\n",
      "Neighbors: 4 \n",
      " F1: 0.1579\n",
      "\n",
      "Neighbors: 5 \n",
      " F1: 0.1538\n",
      "\n",
      "Neighbors: 6 \n",
      " F1: 0.0575\n",
      "\n",
      "Neighbors: 7 \n",
      " F1: 0.0682\n",
      "\n",
      "Neighbors: 8 \n",
      " F1: 0.0462\n",
      "\n",
      "Neighbors: 9 \n",
      " F1: 0.0462\n",
      "\n",
      "Neighbors: 10 \n",
      " F1: 0.0000\n",
      "\n"
     ]
    }
   ],
   "source": [
    "f1_score = []\n",
    "\n",
    "for k in range(1, 11):\n",
    "    k_classifier = sklearn.neighbors.KNeighborsClassifier(n_neighbors = k, radius = 0.4)\n",
    "    k_classifier.fit(features_train, target_train)\n",
    "    prediction = k_classifier.predict(features_test)\n",
    "    f1 = sklearn.metrics.f1_score(target_test, prediction)\n",
    "    f1_score.append(f1)\n",
    "    print(f'Neighbors: {k} \\n F1: {f1:.4f}\\n')"
   ]
  },
  {
   "cell_type": "code",
   "execution_count": 34,
   "metadata": {},
   "outputs": [],
   "source": [
    "# scale the features values\n",
    "\n",
    "scaler = sklearn.preprocessing.MaxAbsScaler()\n",
    "scaler.fit(features_train)\n",
    "\n",
    "features_train_scaled = scaler.transform(features_train)\n",
    "features_test_scaled = scaler.transform(features_test)"
   ]
  },
  {
   "cell_type": "code",
   "execution_count": 35,
   "metadata": {},
   "outputs": [
    {
     "name": "stdout",
     "output_type": "stream",
     "text": [
      "Neighbors: 1 \n",
      " F1: 0.9583\n",
      "\n",
      "Neighbors: 2 \n",
      " F1: 0.9313\n",
      "\n",
      "Neighbors: 3 \n",
      " F1: 0.9521\n",
      "\n",
      "Neighbors: 4 \n",
      " F1: 0.9010\n",
      "\n",
      "Neighbors: 5 \n",
      " F1: 0.9113\n",
      "\n",
      "Neighbors: 6 \n",
      " F1: 0.9003\n",
      "\n",
      "Neighbors: 7 \n",
      " F1: 0.9091\n",
      "\n",
      "Neighbors: 8 \n",
      " F1: 0.8939\n",
      "\n",
      "Neighbors: 9 \n",
      " F1: 0.9063\n",
      "\n",
      "Neighbors: 10 \n",
      " F1: 0.9051\n",
      "\n"
     ]
    }
   ],
   "source": [
    "f1_scaled = []\n",
    "\n",
    "for k in range(1, 11):\n",
    "    k_classifier = sklearn.neighbors.KNeighborsClassifier(n_neighbors = k, radius = 0.4)\n",
    "    k_classifier.fit(features_train_scaled, target_train)\n",
    "    prediction = k_classifier.predict(features_test_scaled)\n",
    "    f1 = sklearn.metrics.f1_score(target_test, prediction)\n",
    "    f1_scaled.append(f1)\n",
    "    print(f'Neighbors: {k} \\n F1: {f1:.4f}\\n')"
   ]
  },
  {
   "cell_type": "markdown",
   "metadata": {},
   "source": [
    "These numbers are good to have, but it will be easier to see the F1 scores if they are plotted."
   ]
  },
  {
   "cell_type": "code",
   "execution_count": 36,
   "metadata": {},
   "outputs": [
    {
     "data": {
      "image/png": "[encoded data removed]",
      "text/plain": [
       "<Figure size 1080x720 with 1 Axes>"
      ]
     },
     "metadata": {
      "needs_background": "light"
     },
     "output_type": "display_data"
    }
   ],
   "source": [
    "# plot \n",
    "\n",
    "plt.figure(figsize=(15,10))\n",
    "plt.plot(f1_score, label = 'unscaled')\n",
    "plt.plot(f1_scaled, label = 'scaled')\n",
    "plt.title('F1 scores')\n",
    "plt.xlabel('# of neighbors (k)')\n",
    "plt.ylabel('F1 (%)')\n",
    "plt.legend()\n",
    "plt.show()"
   ]
  },
  {
   "cell_type": "markdown",
   "metadata": {},
   "source": [
    "We see that with our F1 score that we get fairly consistently good results with our scaled model, but with the unscaled model the F1 score drops steeply as we add more neighbors. In this case, regardless of what we choose to use for k, it seems like the scaled model is the more accurate option.\n",
    "\n",
    "Since the dummy model would have a high accuracy of 0.8872 by simply guessing 0 for all values, getting a better model would be rather tricky. Our scaled model manages to surpass that accuracy, going as high as having an F1 score of 0.9659."
   ]
  },
  {
   "cell_type": "markdown",
   "metadata": {},
   "source": [
    "# Task 3. Regression (with Linear Regression)"
   ]
  },
  {
   "cell_type": "markdown",
   "metadata": {},
   "source": [
    "With `insurance_benefits` as the target, evaluate what RMSE would be for a Linear Regression model."
   ]
  },
  {
   "cell_type": "markdown",
   "metadata": {},
   "source": [
    "Build your own implementation of LR. For that, recall how the linear regression task's solution is formulated in terms of LA. Check RMSE for both the original data and the scaled one. Can you see any difference in RMSE between these two cases?\n",
    "\n",
    "Let's denote\n",
    "- $X$ — feature matrix, each row is a case, each column is a feature, the first column consists of unities\n",
    "- $y$ — target (a vector)\n",
    "- $\\hat{y}$ — estimated tagret (a vector)\n",
    "- $w$ — weight vector\n",
    "\n",
    "The task of linear regression in the language of matrices can be formulated as\n",
    "\n",
    "$$\n",
    "y = Xw\n",
    "$$\n",
    "\n",
    "The training objective then is to find such $w$ that it would minimize the L2-distance (MSE) between $Xw$ and $y$:\n",
    "\n",
    "$$\n",
    "\\min_w d_2(Xw, y) \\quad \\text{or} \\quad \\min_w \\text{MSE}(Xw, y)\n",
    "$$\n",
    "\n",
    "It appears that there is analytical solution for the above:\n",
    "\n",
    "$$\n",
    "w = (X^T X)^{-1} X^T y\n",
    "$$\n",
    "\n",
    "The formula above can be used to find the weights $w$ and the latter can be used to calculate predicted values\n",
    "\n",
    "$$\n",
    "\\hat{y} = X_{val}w\n",
    "$$"
   ]
  },
  {
   "cell_type": "markdown",
   "metadata": {},
   "source": [
    "Split the whole data in the 70:30 proportion for the training/validation parts. Use the RMSE metric for the model evaluation."
   ]
  },
  {
   "cell_type": "code",
   "execution_count": 37,
   "metadata": {},
   "outputs": [],
   "source": [
    "class MyLinearRegression:\n",
    "    \n",
    "    def __init__(self):\n",
    "        \n",
    "        self.weights = None\n",
    "    \n",
    "    def fit(self, X, y):\n",
    "        \n",
    "        # adding the unities\n",
    "        X2 = np.append(np.ones([len(X), 1]), X, axis=1)\n",
    "        self.weights = np.linalg.inv(X2.T.dot(X2)).dot(X2.T).dot(y)\n",
    "\n",
    "    def predict(self, X):\n",
    "        \n",
    "        # adding the unities\n",
    "        X2 = np.append(np.ones([len(X), 1]), X, axis = 1)\n",
    "        y_pred = X2.dot(self.weights)\n",
    "        \n",
    "        return y_pred"
   ]
  },
  {
   "cell_type": "code",
   "execution_count": 38,
   "metadata": {},
   "outputs": [],
   "source": [
    "def eval_regressor(y_true, y_pred):\n",
    "    \n",
    "    rmse = math.sqrt(sklearn.metrics.mean_squared_error(y_true, y_pred))\n",
    "    print(f'RMSE: {rmse:.2f}')\n",
    "    \n",
    "    r2_score = math.sqrt(sklearn.metrics.r2_score(y_true, y_pred))\n",
    "    print(f'R2: {r2_score:.2f}')    "
   ]
  },
  {
   "cell_type": "code",
   "execution_count": 39,
   "metadata": {},
   "outputs": [
    {
     "name": "stdout",
     "output_type": "stream",
     "text": [
      "[-9.43539012e-01  3.57495491e-02  1.64272726e-02 -2.60743659e-07\n",
      " -1.16902127e-02]\n",
      "RMSE: 0.34\n",
      "R2: 0.66\n"
     ]
    }
   ],
   "source": [
    "# features and target split\n",
    "\n",
    "X = df[['age', 'gender', 'income', 'family_members']].to_numpy()\n",
    "y = df['insurance_benefits'].to_numpy()\n",
    "\n",
    "# train test split\n",
    "\n",
    "X_train, X_test, y_train, y_test = train_test_split(X, y, test_size=0.3, random_state=12345)\n",
    "\n",
    "# checking linear regression\n",
    "\n",
    "lr = MyLinearRegression()\n",
    "\n",
    "lr.fit(X_train, y_train)\n",
    "print(lr.weights)\n",
    "\n",
    "y_test_pred = lr.predict(X_test)\n",
    "eval_regressor(y_test, y_test_pred)"
   ]
  },
  {
   "cell_type": "code",
   "execution_count": 40,
   "metadata": {},
   "outputs": [
    {
     "name": "stdout",
     "output_type": "stream",
     "text": [
      "[-0.94353901  2.32372069  0.01642727 -0.02059875 -0.07014128]\n",
      "RMSE: 0.34\n",
      "R2: 0.66\n"
     ]
    }
   ],
   "source": [
    "# features and target split\n",
    "\n",
    "X_scaled = df_scaled[['age', 'gender', 'income', 'family_members']].to_numpy()\n",
    "y_scaled = df_scaled['insurance_benefits'].to_numpy()\n",
    "\n",
    "# train test split\n",
    "\n",
    "X_train_scaled, X_test_scaled, y_train_scaled, y_test_scaled = train_test_split(X_scaled, y_scaled, \n",
    "                                                                                test_size=0.3, random_state=12345)\n",
    "\n",
    "# checking linear regression\n",
    "\n",
    "lr_scaled = MyLinearRegression()\n",
    "\n",
    "lr_scaled.fit(X_train_scaled, y_train_scaled)\n",
    "print(lr_scaled.weights)\n",
    "\n",
    "y_test_pred_scaled = lr_scaled.predict(X_test_scaled)\n",
    "eval_regressor(y_test_scaled, y_test_pred_scaled)"
   ]
  },
  {
   "cell_type": "markdown",
   "metadata": {},
   "source": [
    "What we see here is that whether or not we scale the data, the same RMSE is achieved. From the weights, we see that the numbers of our weights different. The scaled model is far easier to deal with, as the numbers are more consistent whereas the unscaled model has numbers as small as e-07 level which is not as intuitive."
   ]
  },
  {
   "cell_type": "markdown",
   "metadata": {},
   "source": [
    "# Task 4. Obfuscating Data"
   ]
  },
  {
   "cell_type": "markdown",
   "metadata": {},
   "source": [
    "It best to obfuscate data by multiplying the numerical features (remember, they can be seen as the matrix $X$) by an invertible matrix $P$. \n",
    "\n",
    "$$\n",
    "X' = X \\times P\n",
    "$$\n",
    "\n",
    "Try to do that and check how the features' values will look like after the transformation. By the way, the intertible property is important here so make sure that $P$ is indeed invertible."
   ]
  },
  {
   "cell_type": "code",
   "execution_count": 41,
   "metadata": {},
   "outputs": [],
   "source": [
    "personal_info_column_list = ['gender', 'age', 'income', 'family_members']\n",
    "df_pn = df[personal_info_column_list]"
   ]
  },
  {
   "cell_type": "code",
   "execution_count": 42,
   "metadata": {},
   "outputs": [],
   "source": [
    "X = df_pn.to_numpy()"
   ]
  },
  {
   "cell_type": "markdown",
   "metadata": {},
   "source": [
    "Generating a random matrix $P$."
   ]
  },
  {
   "cell_type": "code",
   "execution_count": 43,
   "metadata": {},
   "outputs": [],
   "source": [
    "rng = np.random.default_rng(seed=42)\n",
    "P = rng.random(size=(X.shape[1], X.shape[1]))"
   ]
  },
  {
   "cell_type": "code",
   "execution_count": 44,
   "metadata": {},
   "outputs": [
    {
     "data": {
      "text/plain": [
       "array([[0.77395605, 0.43887844, 0.85859792, 0.69736803],\n",
       "       [0.09417735, 0.97562235, 0.7611397 , 0.78606431],\n",
       "       [0.12811363, 0.45038594, 0.37079802, 0.92676499],\n",
       "       [0.64386512, 0.82276161, 0.4434142 , 0.22723872]])"
      ]
     },
     "execution_count": 44,
     "metadata": {},
     "output_type": "execute_result"
    }
   ],
   "source": [
    "# display P\n",
    "\n",
    "P"
   ]
  },
  {
   "cell_type": "markdown",
   "metadata": {},
   "source": [
    "Checking the matrix $P$ is invertible"
   ]
  },
  {
   "cell_type": "code",
   "execution_count": 38,
   "metadata": {
    "scrolled": true
   },
   "outputs": [
    {
     "data": {
      "text/plain": [
       "array([[ 0.41467992, -1.43783972,  0.62798546,  1.14001268],\n",
       "       [-1.06101789,  0.44219337,  0.1329549 ,  1.18425933],\n",
       "       [ 1.42362442,  1.60461607, -2.0553823 , -1.53699695],\n",
       "       [-0.11128575, -0.65813802,  1.74995517, -0.11816316]])"
      ]
     },
     "execution_count": 38,
     "metadata": {},
     "output_type": "execute_result"
    }
   ],
   "source": [
    "P_inv = np.linalg.inv(P)\n",
    "P_inv"
   ]
  },
  {
   "cell_type": "markdown",
   "metadata": {},
   "source": [
    "Can you guess the customers' ages or income after the transformation?"
   ]
  },
  {
   "cell_type": "code",
   "execution_count": 39,
   "metadata": {},
   "outputs": [
    {
     "name": "stdout",
     "output_type": "stream",
     "text": [
      "X' = X * P:\n"
     ]
    },
    {
     "data": {
      "text/plain": [
       "array([[ 6359.71527314, 22380.40467609, 18424.09074184, 46000.69669016],\n",
       "       [ 4873.29406479, 17160.36702982, 14125.78076133, 35253.45577301],\n",
       "       [ 2693.11742928,  9486.397744  ,  7808.83156024, 19484.86063067],\n",
       "       ...,\n",
       "       [ 4346.2234249 , 15289.24126492, 12586.16264392, 31433.50888552],\n",
       "       [ 4194.09324155, 14751.9910242 , 12144.02930637, 30323.88763426],\n",
       "       [ 5205.46827354, 18314.24814446, 15077.01370762, 37649.59295455]])"
      ]
     },
     "execution_count": 39,
     "metadata": {},
     "output_type": "execute_result"
    }
   ],
   "source": [
    "print('X\\' = X * P:')\n",
    "obs_data = X.dot(P)\n",
    "obs_data"
   ]
  },
  {
   "cell_type": "markdown",
   "metadata": {},
   "source": [
    "These numbers might, in theory, be considered possible incomes as many we see in the sample do seem to align with income. However, that is simply conjecture and we see that while there are many that are in the 20,000-50,000 range (which is where most of our data lies) the ones that are under 10,000 show that this data does not reflect the age or income of the customers.\n",
    "\n",
    "In brief, the data has been obfuscated."
   ]
  },
  {
   "cell_type": "markdown",
   "metadata": {},
   "source": [
    "Can you recover the original data from $X'$ if you know $P$? Try to check that with calculations by moving $P$ from the right side of the formula above to the left one. The rules of matrix multiplcation are really helpful here."
   ]
  },
  {
   "cell_type": "markdown",
   "metadata": {},
   "source": [
    "$$\n",
    "X' = X \\times P \\Rightarrow X' \\times P^{-1} = X \\times P \\times P^{-1}\n",
    "\\Rightarrow X' \\times P^{-1} = X\n",
    "$$\n"
   ]
  },
  {
   "cell_type": "code",
   "execution_count": 40,
   "metadata": {},
   "outputs": [
    {
     "data": {
      "text/plain": [
       "array([[ 1.00000000e+00,  4.10000000e+01,  4.96000000e+04,\n",
       "         1.00000000e+00],\n",
       "       [-4.47363596e-12,  4.60000000e+01,  3.80000000e+04,\n",
       "         1.00000000e+00],\n",
       "       [-2.51586878e-12,  2.90000000e+01,  2.10000000e+04,\n",
       "         9.52452315e-13],\n",
       "       ...,\n",
       "       [-1.92837871e-12,  2.00000000e+01,  3.39000000e+04,\n",
       "         2.00000000e+00],\n",
       "       [ 1.00000000e+00,  2.20000000e+01,  3.27000000e+04,\n",
       "         3.00000000e+00],\n",
       "       [ 1.00000000e+00,  2.80000000e+01,  4.06000000e+04,\n",
       "         1.00000000e+00]])"
      ]
     },
     "execution_count": 40,
     "metadata": {},
     "output_type": "execute_result"
    }
   ],
   "source": [
    "return_X = obs_data.dot(np.linalg.inv(P))\n",
    "return_X"
   ]
  },
  {
   "cell_type": "markdown",
   "metadata": {},
   "source": [
    "Print all three cases for a few customers\n",
    "- The original data\n",
    "- The transformed one\n",
    "- The reversed (recovered) one"
   ]
  },
  {
   "cell_type": "code",
   "execution_count": 41,
   "metadata": {},
   "outputs": [
    {
     "name": "stdout",
     "output_type": "stream",
     "text": [
      "Original:\n",
      " [[1.00e+00 4.10e+01 4.96e+04 1.00e+00]\n",
      " [0.00e+00 4.60e+01 3.80e+04 1.00e+00]\n",
      " [0.00e+00 2.90e+01 2.10e+04 0.00e+00]\n",
      " ...\n",
      " [0.00e+00 2.00e+01 3.39e+04 2.00e+00]\n",
      " [1.00e+00 2.20e+01 3.27e+04 3.00e+00]\n",
      " [1.00e+00 2.80e+01 4.06e+04 1.00e+00]] \n",
      "\n",
      "Transformed:\n",
      " [[ 6359.71527314 22380.40467609 18424.09074184 46000.69669016]\n",
      " [ 4873.29406479 17160.36702982 14125.78076133 35253.45577301]\n",
      " [ 2693.11742928  9486.397744    7808.83156024 19484.86063067]\n",
      " ...\n",
      " [ 4346.2234249  15289.24126492 12586.16264392 31433.50888552]\n",
      " [ 4194.09324155 14751.9910242  12144.02930637 30323.88763426]\n",
      " [ 5205.46827354 18314.24814446 15077.01370762 37649.59295455]] \n",
      "\n",
      "Recovered:\n",
      " [[ 1.00000000e+00  4.10000000e+01  4.96000000e+04  1.00000000e+00]\n",
      " [-4.47363596e-12  4.60000000e+01  3.80000000e+04  1.00000000e+00]\n",
      " [-2.51586878e-12  2.90000000e+01  2.10000000e+04  9.52452315e-13]\n",
      " ...\n",
      " [-1.92837871e-12  2.00000000e+01  3.39000000e+04  2.00000000e+00]\n",
      " [ 1.00000000e+00  2.20000000e+01  3.27000000e+04  3.00000000e+00]\n",
      " [ 1.00000000e+00  2.80000000e+01  4.06000000e+04  1.00000000e+00]]\n"
     ]
    }
   ],
   "source": [
    "print('Original:\\n', X, '\\n')\n",
    "print('Transformed:\\n', obs_data, '\\n')\n",
    "print('Recovered:\\n', return_X)"
   ]
  },
  {
   "cell_type": "markdown",
   "metadata": {},
   "source": [
    "You can probably see that some values are not exactly the same as they are in the original data. What might be the reason for that?"
   ]
  },
  {
   "cell_type": "markdown",
   "metadata": {},
   "source": [
    "We can see that there are data points in the recovered data that are different, that tend to be aligned with the points in the original data where we saw points of 0. These points are all very close to 0, but are not equal to zero. The reason is simply an error in precision from convering from zero to a nonzero number and then back to what should result in zero."
   ]
  },
  {
   "cell_type": "markdown",
   "metadata": {},
   "source": [
    "## Proof That Data Obfuscation Can Work with LR"
   ]
  },
  {
   "cell_type": "markdown",
   "metadata": {},
   "source": [
    "The regression task has been solved with linear regression in this project. Your next task is to prove _analytically_ that the given obfuscation method won't affect linear regression in terms of predicted values i.e. their values will remain the same. Can you believe that? Well, you don't have to, you should prove it!"
   ]
  },
  {
   "cell_type": "markdown",
   "metadata": {},
   "source": [
    "So, the data is obfuscated and there is $X \\times P$ instead of just $X$ now. Consequently, there are other weights $w_P$ as\n",
    "$$\n",
    "w = (X^T X)^{-1} X^T y \\quad \\Rightarrow \\quad w_P = [(XP)^T XP]^{-1} (XP)^T y\n",
    "$$\n",
    "\n",
    "How would $w$ and $w_P$ be linked if you simplify the formula for $w_P$ above? \n",
    "\n",
    "What would be predicted values with $w_P$? \n",
    "\n",
    "What does that mean for the quality of linear regression if you measure it with RMSE?\n",
    "\n",
    "Check Appendix B Properties of Matrices in the end of the notebook. There are useful formulas in there!\n",
    "\n",
    "No code is necessary in this section, only analytical explanation!"
   ]
  },
  {
   "cell_type": "markdown",
   "metadata": {},
   "source": [
    "**Answer**"
   ]
  },
  {
   "cell_type": "markdown",
   "metadata": {},
   "source": [
    "$$\\quad w_P = [(XP)^T XP]^{-1} (XP)^T y$$"
   ]
  },
  {
   "cell_type": "markdown",
   "metadata": {},
   "source": [
    "$$\\Rightarrow [(P^T X^T) XP]^{-1} P^TX^Ty$$"
   ]
  },
  {
   "cell_type": "markdown",
   "metadata": {},
   "source": [
    "$$\\Rightarrow [(P^T X^T X)P]^{-1} P^TX^Ty$$"
   ]
  },
  {
   "cell_type": "markdown",
   "metadata": {},
   "source": [
    "$$\\Rightarrow P^{-1}[P^T (X^T X)]^{-1} P^TX^Ty$$"
   ]
  },
  {
   "cell_type": "markdown",
   "metadata": {},
   "source": [
    "$$\\Rightarrow P^{-1}(X^T X)^{-1}(P^T)^{-1} P^TX^Ty$$"
   ]
  },
  {
   "cell_type": "markdown",
   "metadata": {},
   "source": [
    "$$\\Rightarrow P^{-1}(X^TX)^{-1}X^Ty$$"
   ]
  },
  {
   "cell_type": "markdown",
   "metadata": {},
   "source": [
    "$$\\textbf{recall } w = (X^TX)^{-1}X^Ty$$"
   ]
  },
  {
   "cell_type": "markdown",
   "metadata": {},
   "source": [
    "$$w_P = P^{-1}w$$"
   ]
  },
  {
   "cell_type": "markdown",
   "metadata": {},
   "source": [
    "The proof that $w_P = P^{-1}w$ is done such to prove that the predictions we get from the obfuscated data set will be the same as the predictions made in the original data. If this were not the case, then the predictions would be different which would be troubling as it would mean that the obfuscated data is not practical to use."
   ]
  },
  {
   "cell_type": "markdown",
   "metadata": {},
   "source": [
    "## Test Linear Regression With Data Obfuscation"
   ]
  },
  {
   "cell_type": "markdown",
   "metadata": {},
   "source": [
    "Now, let's prove Linear Regression can work computationally with the chosen obfuscation transformation.\n",
    "\n",
    "Build a procedure or a class that runs Linear Regression optionally with the obfuscation. You can use either a ready implementation of Linear Regression from sciki-learn or your own.\n",
    "\n",
    "Run Linear Regression for the original data and the obfuscated one, compare the predicted values and the RMSE, $R^2$ metric values."
   ]
  },
  {
   "cell_type": "code",
   "execution_count": 42,
   "metadata": {},
   "outputs": [],
   "source": [
    "# gather data\n",
    "\n",
    "personal_info_column_list = ['gender', 'age', 'income', 'family_members']\n",
    "\n",
    "X = df[personal_info_column_list].to_numpy()\n",
    "y = df['insurance_benefits'].to_numpy()"
   ]
  },
  {
   "cell_type": "code",
   "execution_count": 43,
   "metadata": {},
   "outputs": [],
   "source": [
    "# generate the random matrix P\n",
    "\n",
    "rand = np.random.default_rng(seed = 12345)\n",
    "P = rand.random(size=(X.shape[1], X.shape[1]))"
   ]
  },
  {
   "cell_type": "code",
   "execution_count": 44,
   "metadata": {},
   "outputs": [
    {
     "data": {
      "text/plain": [
       "array([[-1.97240014,  1.76004024, -0.08309671,  1.22285233],\n",
       "       [ 0.14111106,  0.32873452,  1.02824721, -1.27752175],\n",
       "       [ 0.8908452 ,  0.90302415, -0.59501472, -0.23290483],\n",
       "       [ 1.02530945, -1.81039816,  0.24787878,  0.46192295]])"
      ]
     },
     "execution_count": 44,
     "metadata": {},
     "output_type": "execute_result"
    }
   ],
   "source": [
    "# check for invertibility\n",
    "\n",
    "P_inv = np.linalg.inv(P)\n",
    "P_inv"
   ]
  },
  {
   "cell_type": "code",
   "execution_count": 45,
   "metadata": {},
   "outputs": [
    {
     "name": "stdout",
     "output_type": "stream",
     "text": [
      "[-9.43539012e-01  3.57495491e-02  1.64272726e-02 -2.60743659e-07\n",
      " -1.16902127e-02]\n",
      "RMSE: 0.34\n",
      "R2: 0.66\n"
     ]
    }
   ],
   "source": [
    "# perform linear regression\n",
    "\n",
    "X_train, X_test, y_train, y_test = train_test_split(X, y, test_size = 0.3, random_state = 12345)\n",
    "\n",
    "lin_reg = MyLinearRegression()\n",
    "\n",
    "lin_reg.fit(X_train, y_train)\n",
    "print(lr.weights)\n",
    "\n",
    "y_test_pred = lin_reg.predict(X_test)\n",
    "eval_regressor(y_test, y_test_pred)"
   ]
  },
  {
   "cell_type": "code",
   "execution_count": 46,
   "metadata": {},
   "outputs": [
    {
     "name": "stdout",
     "output_type": "stream",
     "text": [
      "[-9.43539012e-01  3.57495491e-02  1.64272726e-02 -2.60743659e-07\n",
      " -1.16902127e-02]\n",
      "RMSE: 0.34\n",
      "R2: 0.66\n"
     ]
    }
   ],
   "source": [
    "# check on the obfuscated matrix\n",
    "\n",
    "X_obs = X.dot(P)\n",
    "\n",
    "X_train_obs, X_test_obs, y_train_obs, y_test_obs = train_test_split(X_obs, y, test_size = 0.3, random_state = 12345)\n",
    "\n",
    "lin_reg_obs = MyLinearRegression()\n",
    "\n",
    "lin_reg_obs.fit(X_train_obs, y_train_obs)\n",
    "print(lr.weights)\n",
    "\n",
    "y_test_pred_obs = lin_reg_obs.predict(X_test_obs)\n",
    "eval_regressor(y_test_obs, y_test_pred_obs)"
   ]
  },
  {
   "cell_type": "markdown",
   "metadata": {},
   "source": [
    "Both of our linear regressions on the data, whether obfuscated or not, return the same weights and the same levels of error. This shows tangibly that the obfuscation does not alter the model's quality."
   ]
  },
  {
   "cell_type": "markdown",
   "metadata": {},
   "source": [
    "# Conclusions"
   ]
  },
  {
   "cell_type": "markdown",
   "metadata": {},
   "source": [
    "For the first task, we created a model that tracks which customers are most similar to one another in terms of their gender, age, income, family size, and number of insurance benefits. We have found that after scaling our values we receive a more accurate means of identifying similar customers."
   ]
  },
  {
   "cell_type": "markdown",
   "metadata": {},
   "source": [
    "The second task held a more difficult hurdle of predicting if a customer would or would not receive insurance benefits. Since most customers do not receive benefits, it was seen that a dummy model that simply guesses 0 for all values performs rather well. However, we were able to create a model with a higher F1 score to be used for highly accurate predictions."
   ]
  },
  {
   "cell_type": "markdown",
   "metadata": {},
   "source": [
    "Thirdly, we predicted the number of benefits that a given customer was likely to receive by creating a model. This sort of work is vital in order to determine a pricing plan as well as when dealing on an individual basis. Related to this task, we obfuscated the data with a random number generator in order to protect the client's personal data and proved that this obfuscation process does not change the predictive model's results."
   ]
  },
  {
   "cell_type": "code",
   "execution_count": null,
   "metadata": {},
   "outputs": [],
   "source": []
  }
 ],
 "metadata": {
  "ExecuteTimeLog": [
   {
    "duration": 6659,
    "start_time": "2022-04-30T01:36:16.539Z"
   },
   {
    "duration": 2250,
    "start_time": "2022-04-30T01:36:23.202Z"
   },
   {
    "duration": 48,
    "start_time": "2022-04-30T01:36:29.788Z"
   },
   {
    "duration": 5,
    "start_time": "2022-04-30T01:36:44.238Z"
   },
   {
    "duration": 21,
    "start_time": "2022-04-30T01:36:46.828Z"
   },
   {
    "duration": 18,
    "start_time": "2022-04-30T03:24:35.059Z"
   },
   {
    "duration": 6,
    "start_time": "2022-04-30T03:25:48.622Z"
   },
   {
    "duration": 15,
    "start_time": "2022-04-30T03:25:54.098Z"
   },
   {
    "duration": 33,
    "start_time": "2022-04-30T03:26:08.363Z"
   },
   {
    "duration": 49,
    "start_time": "2022-04-30T19:41:29.265Z"
   },
   {
    "duration": 106216,
    "start_time": "2022-04-30T19:41:35.553Z"
   },
   {
    "duration": 1666,
    "start_time": "2022-04-30T19:43:21.771Z"
   },
   {
    "duration": 32,
    "start_time": "2022-04-30T19:43:23.439Z"
   },
   {
    "duration": 4,
    "start_time": "2022-04-30T19:43:23.474Z"
   },
   {
    "duration": 18,
    "start_time": "2022-04-30T19:43:23.479Z"
   },
   {
    "duration": 12,
    "start_time": "2022-04-30T19:43:23.498Z"
   },
   {
    "duration": 6,
    "start_time": "2022-04-30T19:43:23.512Z"
   },
   {
    "duration": 13,
    "start_time": "2022-04-30T19:43:23.519Z"
   },
   {
    "duration": 47,
    "start_time": "2022-04-30T19:43:23.533Z"
   },
   {
    "duration": 3415,
    "start_time": "2022-04-30T19:43:23.582Z"
   },
   {
    "duration": 3,
    "start_time": "2022-04-30T19:45:30.631Z"
   },
   {
    "duration": 108,
    "start_time": "2022-04-30T19:45:33.063Z"
   },
   {
    "duration": 4,
    "start_time": "2022-04-30T19:51:23.035Z"
   },
   {
    "duration": 71,
    "start_time": "2022-04-30T19:51:47.630Z"
   },
   {
    "duration": 9,
    "start_time": "2022-04-30T19:52:00.228Z"
   },
   {
    "duration": 13,
    "start_time": "2022-04-30T19:52:03.463Z"
   },
   {
    "duration": 4,
    "start_time": "2022-04-30T19:53:19.002Z"
   },
   {
    "duration": 14,
    "start_time": "2022-04-30T19:53:20.587Z"
   },
   {
    "duration": 4,
    "start_time": "2022-04-30T19:55:05.195Z"
   },
   {
    "duration": 10,
    "start_time": "2022-04-30T19:55:06.109Z"
   },
   {
    "duration": 13,
    "start_time": "2022-04-30T19:55:10.355Z"
   },
   {
    "duration": 5,
    "start_time": "2022-04-30T19:55:14.122Z"
   },
   {
    "duration": 15,
    "start_time": "2022-04-30T19:55:14.756Z"
   },
   {
    "duration": 5,
    "start_time": "2022-04-30T19:56:40.702Z"
   },
   {
    "duration": 13,
    "start_time": "2022-04-30T19:56:41.354Z"
   },
   {
    "duration": 4,
    "start_time": "2022-04-30T19:57:36.714Z"
   },
   {
    "duration": 13,
    "start_time": "2022-04-30T19:57:37.865Z"
   },
   {
    "duration": 4,
    "start_time": "2022-04-30T19:57:55.284Z"
   },
   {
    "duration": 14,
    "start_time": "2022-04-30T19:57:56.867Z"
   },
   {
    "duration": 115,
    "start_time": "2022-04-30T19:58:05.804Z"
   },
   {
    "duration": 5,
    "start_time": "2022-04-30T19:58:10.072Z"
   },
   {
    "duration": 487,
    "start_time": "2022-04-30T19:58:10.527Z"
   },
   {
    "duration": 4,
    "start_time": "2022-04-30T19:59:16.568Z"
   },
   {
    "duration": 564,
    "start_time": "2022-04-30T19:59:18.283Z"
   },
   {
    "duration": 5,
    "start_time": "2022-04-30T20:00:01.673Z"
   },
   {
    "duration": 18,
    "start_time": "2022-04-30T20:00:05.330Z"
   },
   {
    "duration": 4,
    "start_time": "2022-04-30T20:00:15.613Z"
   },
   {
    "duration": 472,
    "start_time": "2022-04-30T20:00:16.242Z"
   },
   {
    "duration": 5,
    "start_time": "2022-04-30T20:00:55.242Z"
   },
   {
    "duration": 1837,
    "start_time": "2022-04-30T20:00:55.776Z"
   },
   {
    "duration": 5,
    "start_time": "2022-04-30T20:03:32.006Z"
   },
   {
    "duration": 18,
    "start_time": "2022-04-30T20:03:49.196Z"
   },
   {
    "duration": 12,
    "start_time": "2022-04-30T20:04:01.660Z"
   },
   {
    "duration": 21,
    "start_time": "2022-04-30T20:04:16.049Z"
   },
   {
    "duration": 11,
    "start_time": "2022-04-30T20:05:41.591Z"
   },
   {
    "duration": 19,
    "start_time": "2022-04-30T20:05:50.847Z"
   },
   {
    "duration": 22,
    "start_time": "2022-04-30T20:06:10.695Z"
   },
   {
    "duration": 21,
    "start_time": "2022-04-30T20:07:51.379Z"
   },
   {
    "duration": 21,
    "start_time": "2022-04-30T20:08:05.542Z"
   },
   {
    "duration": 29,
    "start_time": "2022-04-30T20:08:09.485Z"
   },
   {
    "duration": 26,
    "start_time": "2022-04-30T20:08:20.938Z"
   },
   {
    "duration": 20,
    "start_time": "2022-04-30T20:08:21.936Z"
   },
   {
    "duration": 11,
    "start_time": "2022-04-30T20:09:04.493Z"
   },
   {
    "duration": 15,
    "start_time": "2022-04-30T20:09:06.124Z"
   },
   {
    "duration": 32,
    "start_time": "2022-04-30T20:09:22.130Z"
   },
   {
    "duration": 34,
    "start_time": "2022-04-30T20:09:29.420Z"
   },
   {
    "duration": 18,
    "start_time": "2022-04-30T22:04:53.532Z"
   },
   {
    "duration": 18,
    "start_time": "2022-04-30T22:04:55.069Z"
   },
   {
    "duration": 29,
    "start_time": "2022-04-30T22:06:29.494Z"
   },
   {
    "duration": 28,
    "start_time": "2022-04-30T22:06:31.955Z"
   },
   {
    "duration": 4,
    "start_time": "2022-04-30T23:14:37.108Z"
   },
   {
    "duration": 13,
    "start_time": "2022-04-30T23:14:39.780Z"
   },
   {
    "duration": 7,
    "start_time": "2022-04-30T23:31:55.394Z"
   },
   {
    "duration": 14,
    "start_time": "2022-04-30T23:31:57.519Z"
   },
   {
    "duration": 8,
    "start_time": "2022-04-30T23:32:44.885Z"
   },
   {
    "duration": 12,
    "start_time": "2022-04-30T23:33:30.017Z"
   },
   {
    "duration": 6,
    "start_time": "2022-04-30T23:33:32.803Z"
   },
   {
    "duration": 3,
    "start_time": "2022-04-30T23:34:06.639Z"
   },
   {
    "duration": 3,
    "start_time": "2022-04-30T23:34:09.263Z"
   },
   {
    "duration": 11,
    "start_time": "2022-04-30T23:35:27.015Z"
   },
   {
    "duration": 8,
    "start_time": "2022-04-30T23:37:24.392Z"
   },
   {
    "duration": 29,
    "start_time": "2022-04-30T23:37:27.250Z"
   },
   {
    "duration": 3,
    "start_time": "2022-04-30T23:37:39.275Z"
   },
   {
    "duration": 3,
    "start_time": "2022-04-30T23:39:36.557Z"
   },
   {
    "duration": 4,
    "start_time": "2022-04-30T23:39:37.709Z"
   },
   {
    "duration": 20,
    "start_time": "2022-04-30T23:39:38.519Z"
   },
   {
    "duration": 10,
    "start_time": "2022-04-30T23:42:21.296Z"
   },
   {
    "duration": 9,
    "start_time": "2022-04-30T23:44:54.692Z"
   },
   {
    "duration": 4,
    "start_time": "2022-04-30T23:44:57.616Z"
   },
   {
    "duration": 2,
    "start_time": "2022-04-30T23:44:58.129Z"
   },
   {
    "duration": 21,
    "start_time": "2022-04-30T23:44:58.804Z"
   },
   {
    "duration": 12,
    "start_time": "2022-04-30T23:45:24.865Z"
   },
   {
    "duration": 21,
    "start_time": "2022-04-30T23:45:32.322Z"
   },
   {
    "duration": 20,
    "start_time": "2022-04-30T23:45:41.466Z"
   },
   {
    "duration": 21,
    "start_time": "2022-04-30T23:46:44.829Z"
   },
   {
    "duration": 11,
    "start_time": "2022-04-30T23:48:09.224Z"
   },
   {
    "duration": 6,
    "start_time": "2022-04-30T23:48:16.627Z"
   },
   {
    "duration": 4,
    "start_time": "2022-04-30T23:48:39.180Z"
   },
   {
    "duration": 100309,
    "start_time": "2022-04-30T23:49:55.972Z"
   },
   {
    "duration": 1504,
    "start_time": "2022-04-30T23:51:36.283Z"
   },
   {
    "duration": 13,
    "start_time": "2022-04-30T23:51:37.789Z"
   },
   {
    "duration": 3,
    "start_time": "2022-04-30T23:51:37.804Z"
   },
   {
    "duration": 38,
    "start_time": "2022-04-30T23:51:37.809Z"
   },
   {
    "duration": 12,
    "start_time": "2022-04-30T23:51:37.849Z"
   },
   {
    "duration": 19,
    "start_time": "2022-04-30T23:51:37.863Z"
   },
   {
    "duration": 23,
    "start_time": "2022-04-30T23:51:37.884Z"
   },
   {
    "duration": 33,
    "start_time": "2022-04-30T23:51:37.909Z"
   },
   {
    "duration": 3237,
    "start_time": "2022-04-30T23:51:37.944Z"
   },
   {
    "duration": 3,
    "start_time": "2022-04-30T23:51:41.183Z"
   },
   {
    "duration": 9,
    "start_time": "2022-04-30T23:51:41.187Z"
   },
   {
    "duration": 20,
    "start_time": "2022-04-30T23:51:41.197Z"
   },
   {
    "duration": 17,
    "start_time": "2022-04-30T23:51:41.219Z"
   },
   {
    "duration": 10,
    "start_time": "2022-04-30T23:51:41.238Z"
   },
   {
    "duration": 31,
    "start_time": "2022-04-30T23:51:41.250Z"
   },
   {
    "duration": 31,
    "start_time": "2022-04-30T23:51:41.282Z"
   },
   {
    "duration": 27,
    "start_time": "2022-04-30T23:51:41.314Z"
   },
   {
    "duration": 9,
    "start_time": "2022-04-30T23:51:41.342Z"
   },
   {
    "duration": 12,
    "start_time": "2022-04-30T23:51:41.374Z"
   },
   {
    "duration": 8,
    "start_time": "2022-04-30T23:51:41.387Z"
   },
   {
    "duration": 8,
    "start_time": "2022-04-30T23:51:41.397Z"
   },
   {
    "duration": 9,
    "start_time": "2022-04-30T23:51:41.406Z"
   },
   {
    "duration": 3,
    "start_time": "2022-04-30T23:51:41.417Z"
   },
   {
    "duration": 9,
    "start_time": "2022-04-30T23:51:41.421Z"
   },
   {
    "duration": 142,
    "start_time": "2022-04-30T23:51:41.431Z"
   },
   {
    "duration": 7,
    "start_time": "2022-04-30T23:52:55.568Z"
   },
   {
    "duration": 21,
    "start_time": "2022-04-30T23:53:37.495Z"
   },
   {
    "duration": 3,
    "start_time": "2022-04-30T23:56:16.032Z"
   },
   {
    "duration": 21,
    "start_time": "2022-04-30T23:56:16.842Z"
   },
   {
    "duration": 3,
    "start_time": "2022-04-30T23:56:21.833Z"
   },
   {
    "duration": 9,
    "start_time": "2022-04-30T23:56:45.319Z"
   },
   {
    "duration": 4,
    "start_time": "2022-04-30T23:56:47.838Z"
   },
   {
    "duration": 6,
    "start_time": "2022-04-30T23:58:18.387Z"
   },
   {
    "duration": 7,
    "start_time": "2022-04-30T23:58:30.865Z"
   },
   {
    "duration": 100047,
    "start_time": "2022-04-30T23:59:50.042Z"
   },
   {
    "duration": 1855,
    "start_time": "2022-05-01T00:01:30.092Z"
   },
   {
    "duration": 14,
    "start_time": "2022-05-01T00:01:31.948Z"
   },
   {
    "duration": 12,
    "start_time": "2022-05-01T00:01:31.964Z"
   },
   {
    "duration": 28,
    "start_time": "2022-05-01T00:01:31.978Z"
   },
   {
    "duration": 28,
    "start_time": "2022-05-01T00:01:32.008Z"
   },
   {
    "duration": 10,
    "start_time": "2022-05-01T00:01:32.038Z"
   },
   {
    "duration": 27,
    "start_time": "2022-05-01T00:01:32.049Z"
   },
   {
    "duration": 54,
    "start_time": "2022-05-01T00:01:32.078Z"
   },
   {
    "duration": 3356,
    "start_time": "2022-05-01T00:01:32.133Z"
   },
   {
    "duration": 3,
    "start_time": "2022-05-01T00:01:35.490Z"
   },
   {
    "duration": 9,
    "start_time": "2022-05-01T00:01:35.494Z"
   },
   {
    "duration": 33,
    "start_time": "2022-05-01T00:01:35.504Z"
   },
   {
    "duration": 18,
    "start_time": "2022-05-01T00:01:35.539Z"
   },
   {
    "duration": 19,
    "start_time": "2022-05-01T00:01:35.559Z"
   },
   {
    "duration": 10,
    "start_time": "2022-05-01T00:01:35.579Z"
   },
   {
    "duration": 31,
    "start_time": "2022-05-01T00:01:35.591Z"
   },
   {
    "duration": 28,
    "start_time": "2022-05-01T00:01:35.623Z"
   },
   {
    "duration": 10,
    "start_time": "2022-05-01T00:01:35.674Z"
   },
   {
    "duration": 16,
    "start_time": "2022-05-01T00:01:35.686Z"
   },
   {
    "duration": 21,
    "start_time": "2022-05-01T00:01:35.703Z"
   },
   {
    "duration": 13,
    "start_time": "2022-05-01T00:01:35.726Z"
   },
   {
    "duration": 11,
    "start_time": "2022-05-01T00:01:35.740Z"
   },
   {
    "duration": 3,
    "start_time": "2022-05-01T00:01:35.753Z"
   },
   {
    "duration": 16,
    "start_time": "2022-05-01T00:01:35.757Z"
   },
   {
    "duration": 127,
    "start_time": "2022-05-01T00:01:35.775Z"
   },
   {
    "duration": 23,
    "start_time": "2022-05-01T00:02:24.699Z"
   },
   {
    "duration": 21,
    "start_time": "2022-05-01T00:02:31.513Z"
   },
   {
    "duration": 12,
    "start_time": "2022-05-01T00:04:54.659Z"
   },
   {
    "duration": 7,
    "start_time": "2022-05-01T00:05:04.406Z"
   },
   {
    "duration": 13,
    "start_time": "2022-05-01T00:05:07.865Z"
   },
   {
    "duration": 13,
    "start_time": "2022-05-01T00:05:15.269Z"
   },
   {
    "duration": 8,
    "start_time": "2022-05-01T00:05:32.321Z"
   },
   {
    "duration": 12,
    "start_time": "2022-05-01T00:06:09.061Z"
   },
   {
    "duration": 12,
    "start_time": "2022-05-01T00:06:12.726Z"
   },
   {
    "duration": 11,
    "start_time": "2022-05-01T00:06:16.446Z"
   },
   {
    "duration": 14,
    "start_time": "2022-05-01T00:06:51.043Z"
   },
   {
    "duration": 13,
    "start_time": "2022-05-01T00:06:53.662Z"
   },
   {
    "duration": 8,
    "start_time": "2022-05-01T00:07:18.193Z"
   },
   {
    "duration": 21,
    "start_time": "2022-05-01T00:07:22.873Z"
   },
   {
    "duration": 7,
    "start_time": "2022-05-01T00:10:55.802Z"
   },
   {
    "duration": 12,
    "start_time": "2022-05-01T00:11:06.260Z"
   },
   {
    "duration": 7,
    "start_time": "2022-05-01T00:11:11.640Z"
   },
   {
    "duration": 7,
    "start_time": "2022-05-01T00:11:18.727Z"
   },
   {
    "duration": 10,
    "start_time": "2022-05-01T00:11:55.060Z"
   },
   {
    "duration": 22,
    "start_time": "2022-05-01T00:11:58.222Z"
   },
   {
    "duration": 21,
    "start_time": "2022-05-01T00:12:23.586Z"
   },
   {
    "duration": 4,
    "start_time": "2022-05-01T00:16:40.630Z"
   },
   {
    "duration": 23,
    "start_time": "2022-05-01T00:16:43.219Z"
   },
   {
    "duration": 4,
    "start_time": "2022-05-01T00:17:06.720Z"
   },
   {
    "duration": 22,
    "start_time": "2022-05-01T00:17:08.577Z"
   },
   {
    "duration": 7,
    "start_time": "2022-05-01T00:18:01.896Z"
   },
   {
    "duration": 4,
    "start_time": "2022-05-01T00:18:24.327Z"
   },
   {
    "duration": 27,
    "start_time": "2022-05-01T00:18:26.046Z"
   },
   {
    "duration": 15,
    "start_time": "2022-05-01T00:18:37.045Z"
   },
   {
    "duration": 4,
    "start_time": "2022-05-01T00:18:43.506Z"
   },
   {
    "duration": 15,
    "start_time": "2022-05-01T00:18:51.887Z"
   },
   {
    "duration": 11,
    "start_time": "2022-05-01T00:19:56.731Z"
   },
   {
    "duration": 8,
    "start_time": "2022-05-01T00:20:29.631Z"
   },
   {
    "duration": 7,
    "start_time": "2022-05-01T00:20:34.737Z"
   },
   {
    "duration": 25,
    "start_time": "2022-05-01T00:20:42.859Z"
   },
   {
    "duration": 24,
    "start_time": "2022-05-01T00:21:09.573Z"
   },
   {
    "duration": 100040,
    "start_time": "2022-05-01T00:21:46.573Z"
   },
   {
    "duration": 1381,
    "start_time": "2022-05-01T00:23:26.615Z"
   },
   {
    "duration": 13,
    "start_time": "2022-05-01T00:23:27.998Z"
   },
   {
    "duration": 4,
    "start_time": "2022-05-01T00:23:28.013Z"
   },
   {
    "duration": 17,
    "start_time": "2022-05-01T00:23:28.019Z"
   },
   {
    "duration": 11,
    "start_time": "2022-05-01T00:23:28.038Z"
   },
   {
    "duration": 6,
    "start_time": "2022-05-01T00:23:28.050Z"
   },
   {
    "duration": 13,
    "start_time": "2022-05-01T00:23:28.074Z"
   },
   {
    "duration": 26,
    "start_time": "2022-05-01T00:23:28.089Z"
   },
   {
    "duration": 3284,
    "start_time": "2022-05-01T00:23:28.117Z"
   },
   {
    "duration": 3,
    "start_time": "2022-05-01T00:23:31.403Z"
   },
   {
    "duration": 9,
    "start_time": "2022-05-01T00:23:31.408Z"
   },
   {
    "duration": 33,
    "start_time": "2022-05-01T00:23:31.419Z"
   },
   {
    "duration": 31,
    "start_time": "2022-05-01T00:23:31.454Z"
   },
   {
    "duration": 11,
    "start_time": "2022-05-01T00:23:31.487Z"
   },
   {
    "duration": 12,
    "start_time": "2022-05-01T00:23:31.500Z"
   },
   {
    "duration": 35,
    "start_time": "2022-05-01T00:23:31.514Z"
   },
   {
    "duration": 38,
    "start_time": "2022-05-01T00:23:31.550Z"
   },
   {
    "duration": 11,
    "start_time": "2022-05-01T00:23:31.590Z"
   },
   {
    "duration": 16,
    "start_time": "2022-05-01T00:23:31.603Z"
   },
   {
    "duration": 12,
    "start_time": "2022-05-01T00:23:31.620Z"
   },
   {
    "duration": 16,
    "start_time": "2022-05-01T00:23:31.633Z"
   },
   {
    "duration": 17,
    "start_time": "2022-05-01T00:23:31.651Z"
   },
   {
    "duration": 16,
    "start_time": "2022-05-01T00:23:31.670Z"
   },
   {
    "duration": 15,
    "start_time": "2022-05-01T00:23:31.688Z"
   },
   {
    "duration": 128,
    "start_time": "2022-05-01T00:23:31.705Z"
   },
   {
    "duration": 25,
    "start_time": "2022-05-01T00:25:44.177Z"
   },
   {
    "duration": 8,
    "start_time": "2022-05-01T00:28:31.068Z"
   },
   {
    "duration": 14,
    "start_time": "2022-05-01T00:28:33.807Z"
   },
   {
    "duration": 8,
    "start_time": "2022-05-01T00:28:50.798Z"
   },
   {
    "duration": 14,
    "start_time": "2022-05-01T00:28:51.822Z"
   },
   {
    "duration": 7,
    "start_time": "2022-05-01T00:28:59.029Z"
   },
   {
    "duration": 8,
    "start_time": "2022-05-01T00:29:00.577Z"
   },
   {
    "duration": 12,
    "start_time": "2022-05-01T00:29:02.337Z"
   },
   {
    "duration": 4,
    "start_time": "2022-05-01T00:29:03.961Z"
   },
   {
    "duration": 3,
    "start_time": "2022-05-01T00:29:05.488Z"
   },
   {
    "duration": 30,
    "start_time": "2022-05-01T00:29:05.847Z"
   },
   {
    "duration": 9,
    "start_time": "2022-05-01T00:29:20.614Z"
   },
   {
    "duration": 7,
    "start_time": "2022-05-01T01:39:28.572Z"
   },
   {
    "duration": 45,
    "start_time": "2022-05-01T01:43:42.976Z"
   },
   {
    "duration": 344,
    "start_time": "2022-05-01T01:43:58.173Z"
   },
   {
    "duration": 343,
    "start_time": "2022-05-01T01:44:03.212Z"
   },
   {
    "duration": 11,
    "start_time": "2022-05-01T05:05:07.542Z"
   },
   {
    "duration": 11,
    "start_time": "2022-05-01T05:05:23.136Z"
   },
   {
    "duration": 3,
    "start_time": "2022-05-01T05:05:29.994Z"
   },
   {
    "duration": 13,
    "start_time": "2022-05-01T05:05:43.629Z"
   },
   {
    "duration": 11,
    "start_time": "2022-05-01T05:07:14.980Z"
   },
   {
    "duration": 432,
    "start_time": "2022-05-01T05:08:03.934Z"
   },
   {
    "duration": 14,
    "start_time": "2022-05-01T05:08:37.090Z"
   },
   {
    "duration": 178,
    "start_time": "2022-05-01T05:08:50.187Z"
   },
   {
    "duration": 461,
    "start_time": "2022-05-01T05:09:29.394Z"
   },
   {
    "duration": 435,
    "start_time": "2022-05-01T05:09:37.938Z"
   },
   {
    "duration": 442,
    "start_time": "2022-05-01T05:09:44.010Z"
   },
   {
    "duration": 352,
    "start_time": "2022-05-01T05:09:51.204Z"
   },
   {
    "duration": 409,
    "start_time": "2022-05-01T05:10:13.432Z"
   },
   {
    "duration": 176,
    "start_time": "2022-05-01T05:10:15.936Z"
   },
   {
    "duration": 6052,
    "start_time": "2022-05-01T22:18:34.312Z"
   },
   {
    "duration": 1740,
    "start_time": "2022-05-01T22:18:40.367Z"
   },
   {
    "duration": 69,
    "start_time": "2022-05-01T22:18:42.109Z"
   },
   {
    "duration": 4,
    "start_time": "2022-05-01T22:18:42.180Z"
   },
   {
    "duration": 20,
    "start_time": "2022-05-01T22:18:42.186Z"
   },
   {
    "duration": 17,
    "start_time": "2022-05-01T22:18:42.207Z"
   },
   {
    "duration": 4,
    "start_time": "2022-05-01T22:18:42.225Z"
   },
   {
    "duration": 33,
    "start_time": "2022-05-01T22:18:42.231Z"
   },
   {
    "duration": 34,
    "start_time": "2022-05-01T22:18:42.266Z"
   },
   {
    "duration": 3160,
    "start_time": "2022-05-01T22:18:42.301Z"
   },
   {
    "duration": 3,
    "start_time": "2022-05-01T22:18:45.463Z"
   },
   {
    "duration": 6,
    "start_time": "2022-05-01T22:18:45.467Z"
   },
   {
    "duration": 22,
    "start_time": "2022-05-01T22:18:45.474Z"
   },
   {
    "duration": 40,
    "start_time": "2022-05-01T22:18:45.500Z"
   },
   {
    "duration": 11,
    "start_time": "2022-05-01T22:18:45.542Z"
   },
   {
    "duration": 10,
    "start_time": "2022-05-01T22:18:45.555Z"
   },
   {
    "duration": 57,
    "start_time": "2022-05-01T22:18:45.567Z"
   },
   {
    "duration": 30,
    "start_time": "2022-05-01T22:18:45.626Z"
   },
   {
    "duration": 6,
    "start_time": "2022-05-01T22:18:45.659Z"
   },
   {
    "duration": 21,
    "start_time": "2022-05-01T22:18:45.667Z"
   },
   {
    "duration": 6,
    "start_time": "2022-05-01T22:18:45.690Z"
   },
   {
    "duration": 3,
    "start_time": "2022-05-01T22:18:45.722Z"
   },
   {
    "duration": 4,
    "start_time": "2022-05-01T22:18:45.728Z"
   },
   {
    "duration": 126,
    "start_time": "2022-05-01T22:18:45.733Z"
   },
   {
    "duration": 0,
    "start_time": "2022-05-01T22:18:45.861Z"
   },
   {
    "duration": 0,
    "start_time": "2022-05-01T22:18:45.863Z"
   },
   {
    "duration": 0,
    "start_time": "2022-05-01T22:18:45.865Z"
   },
   {
    "duration": 0,
    "start_time": "2022-05-01T22:18:45.866Z"
   },
   {
    "duration": 0,
    "start_time": "2022-05-01T22:18:45.868Z"
   },
   {
    "duration": 4,
    "start_time": "2022-05-01T22:35:54.326Z"
   },
   {
    "duration": 3,
    "start_time": "2022-05-01T22:35:55.936Z"
   },
   {
    "duration": 25,
    "start_time": "2022-05-01T22:37:04.007Z"
   },
   {
    "duration": 3,
    "start_time": "2022-05-01T22:37:45.898Z"
   },
   {
    "duration": 11,
    "start_time": "2022-05-01T22:37:50.187Z"
   },
   {
    "duration": 11,
    "start_time": "2022-05-01T22:39:12.100Z"
   },
   {
    "duration": 8,
    "start_time": "2022-05-01T22:40:28.920Z"
   },
   {
    "duration": 42,
    "start_time": "2022-05-01T22:40:32.387Z"
   },
   {
    "duration": 398,
    "start_time": "2022-05-01T22:40:34.512Z"
   },
   {
    "duration": 8,
    "start_time": "2022-05-01T22:40:35.583Z"
   },
   {
    "duration": 435,
    "start_time": "2022-05-01T22:40:36.487Z"
   },
   {
    "duration": 175,
    "start_time": "2022-05-01T22:40:38.646Z"
   },
   {
    "duration": 5,
    "start_time": "2022-05-01T22:41:23.784Z"
   },
   {
    "duration": 3,
    "start_time": "2022-05-01T22:41:24.687Z"
   },
   {
    "duration": 10,
    "start_time": "2022-05-01T22:41:26.312Z"
   },
   {
    "duration": 10,
    "start_time": "2022-05-01T22:41:27.913Z"
   },
   {
    "duration": 4,
    "start_time": "2022-05-01T23:57:40.311Z"
   },
   {
    "duration": 3,
    "start_time": "2022-05-01T23:57:40.823Z"
   },
   {
    "duration": 3,
    "start_time": "2022-05-01T23:57:43.591Z"
   },
   {
    "duration": 4,
    "start_time": "2022-05-01T23:58:10.450Z"
   },
   {
    "duration": 5,
    "start_time": "2022-05-01T23:58:19.156Z"
   },
   {
    "duration": 9,
    "start_time": "2022-05-01T23:58:51.866Z"
   },
   {
    "duration": 9,
    "start_time": "2022-05-01T23:59:12.003Z"
   },
   {
    "duration": 10,
    "start_time": "2022-05-01T23:59:30.568Z"
   },
   {
    "duration": 6,
    "start_time": "2022-05-02T00:00:38.283Z"
   },
   {
    "duration": 206,
    "start_time": "2022-05-02T00:00:54.604Z"
   },
   {
    "duration": 213,
    "start_time": "2022-05-02T00:01:06.136Z"
   },
   {
    "duration": 6,
    "start_time": "2022-05-02T00:01:10.322Z"
   },
   {
    "duration": 6,
    "start_time": "2022-05-02T00:01:14.624Z"
   },
   {
    "duration": 5,
    "start_time": "2022-05-02T00:01:27.361Z"
   },
   {
    "duration": 4,
    "start_time": "2022-05-02T00:01:53.911Z"
   },
   {
    "duration": 5,
    "start_time": "2022-05-02T00:04:18.622Z"
   },
   {
    "duration": 6,
    "start_time": "2022-05-02T00:39:01.038Z"
   },
   {
    "duration": 5,
    "start_time": "2022-05-02T00:39:07.924Z"
   },
   {
    "duration": 5,
    "start_time": "2022-05-02T00:39:52.531Z"
   },
   {
    "duration": 6,
    "start_time": "2022-05-02T00:44:52.700Z"
   },
   {
    "duration": 4,
    "start_time": "2022-05-02T00:45:53.613Z"
   },
   {
    "duration": 201,
    "start_time": "2022-05-02T00:46:34.419Z"
   },
   {
    "duration": 199,
    "start_time": "2022-05-02T00:47:16.323Z"
   },
   {
    "duration": 11,
    "start_time": "2022-05-02T00:47:53.418Z"
   },
   {
    "duration": 194,
    "start_time": "2022-05-02T00:48:27.495Z"
   },
   {
    "duration": 10,
    "start_time": "2022-05-02T00:48:33.809Z"
   },
   {
    "duration": 10,
    "start_time": "2022-05-02T00:48:50.892Z"
   },
   {
    "duration": 12,
    "start_time": "2022-05-02T00:48:59.813Z"
   },
   {
    "duration": 6,
    "start_time": "2022-05-02T00:50:02.053Z"
   },
   {
    "duration": 6,
    "start_time": "2022-05-02T00:51:15.683Z"
   },
   {
    "duration": 5,
    "start_time": "2022-05-02T00:51:31.165Z"
   },
   {
    "duration": 5,
    "start_time": "2022-05-02T01:49:40.966Z"
   },
   {
    "duration": 3,
    "start_time": "2022-05-02T01:49:42.524Z"
   },
   {
    "duration": 4,
    "start_time": "2022-05-02T01:49:43.068Z"
   },
   {
    "duration": 5,
    "start_time": "2022-05-02T01:51:10.747Z"
   },
   {
    "duration": 3,
    "start_time": "2022-05-02T01:51:12.339Z"
   },
   {
    "duration": 5,
    "start_time": "2022-05-02T01:51:13.026Z"
   },
   {
    "duration": 29,
    "start_time": "2022-05-02T01:51:27.695Z"
   },
   {
    "duration": 10,
    "start_time": "2022-05-02T01:53:41.283Z"
   },
   {
    "duration": 7,
    "start_time": "2022-05-02T01:53:50.716Z"
   },
   {
    "duration": 5,
    "start_time": "2022-05-02T01:54:00.349Z"
   },
   {
    "duration": 22,
    "start_time": "2022-05-02T01:54:03.271Z"
   },
   {
    "duration": 3198,
    "start_time": "2022-05-02T01:54:22.999Z"
   },
   {
    "duration": 1616,
    "start_time": "2022-05-02T01:54:26.200Z"
   },
   {
    "duration": 18,
    "start_time": "2022-05-02T01:54:27.818Z"
   },
   {
    "duration": 4,
    "start_time": "2022-05-02T01:54:27.838Z"
   },
   {
    "duration": 21,
    "start_time": "2022-05-02T01:54:27.844Z"
   },
   {
    "duration": 18,
    "start_time": "2022-05-02T01:54:27.866Z"
   },
   {
    "duration": 5,
    "start_time": "2022-05-02T01:54:27.886Z"
   },
   {
    "duration": 16,
    "start_time": "2022-05-02T01:54:27.892Z"
   },
   {
    "duration": 38,
    "start_time": "2022-05-02T01:54:27.909Z"
   },
   {
    "duration": 3168,
    "start_time": "2022-05-02T01:54:27.948Z"
   },
   {
    "duration": 5,
    "start_time": "2022-05-02T01:54:31.117Z"
   },
   {
    "duration": 9,
    "start_time": "2022-05-02T01:54:31.124Z"
   },
   {
    "duration": 31,
    "start_time": "2022-05-02T01:54:31.134Z"
   },
   {
    "duration": 16,
    "start_time": "2022-05-02T01:54:31.168Z"
   },
   {
    "duration": 10,
    "start_time": "2022-05-02T01:54:31.186Z"
   },
   {
    "duration": 9,
    "start_time": "2022-05-02T01:54:31.197Z"
   },
   {
    "duration": 26,
    "start_time": "2022-05-02T01:54:31.223Z"
   },
   {
    "duration": 26,
    "start_time": "2022-05-02T01:54:31.251Z"
   },
   {
    "duration": 6,
    "start_time": "2022-05-02T01:54:31.278Z"
   },
   {
    "duration": 37,
    "start_time": "2022-05-02T01:54:31.286Z"
   },
   {
    "duration": 5,
    "start_time": "2022-05-02T01:54:31.325Z"
   },
   {
    "duration": 10,
    "start_time": "2022-05-02T01:54:31.332Z"
   },
   {
    "duration": 9,
    "start_time": "2022-05-02T01:54:31.343Z"
   },
   {
    "duration": 6,
    "start_time": "2022-05-02T01:54:31.354Z"
   },
   {
    "duration": 33,
    "start_time": "2022-05-02T01:54:31.362Z"
   },
   {
    "duration": 367,
    "start_time": "2022-05-02T01:54:31.397Z"
   },
   {
    "duration": 7,
    "start_time": "2022-05-02T01:54:31.766Z"
   },
   {
    "duration": 432,
    "start_time": "2022-05-02T01:54:31.775Z"
   },
   {
    "duration": 178,
    "start_time": "2022-05-02T01:54:32.209Z"
   },
   {
    "duration": 4,
    "start_time": "2022-05-02T01:54:32.389Z"
   },
   {
    "duration": 5,
    "start_time": "2022-05-02T01:54:32.395Z"
   },
   {
    "duration": 22,
    "start_time": "2022-05-02T01:54:32.401Z"
   },
   {
    "duration": 99,
    "start_time": "2022-05-02T01:54:32.426Z"
   },
   {
    "duration": 5,
    "start_time": "2022-05-02T01:54:32.529Z"
   },
   {
    "duration": 88,
    "start_time": "2022-05-02T01:54:32.536Z"
   },
   {
    "duration": 4,
    "start_time": "2022-05-02T01:54:32.626Z"
   },
   {
    "duration": 6,
    "start_time": "2022-05-02T01:54:32.632Z"
   },
   {
    "duration": 7,
    "start_time": "2022-05-02T01:54:32.639Z"
   },
   {
    "duration": 76,
    "start_time": "2022-05-02T01:54:32.648Z"
   },
   {
    "duration": 8,
    "start_time": "2022-05-02T01:54:32.727Z"
   },
   {
    "duration": 83,
    "start_time": "2022-05-02T01:54:32.741Z"
   },
   {
    "duration": 5,
    "start_time": "2022-05-02T01:54:32.826Z"
   },
   {
    "duration": 8,
    "start_time": "2022-05-02T01:54:32.832Z"
   },
   {
    "duration": 7,
    "start_time": "2022-05-02T01:54:32.922Z"
   },
   {
    "duration": 293,
    "start_time": "2022-05-02T01:54:32.931Z"
   },
   {
    "duration": 0,
    "start_time": "2022-05-02T01:54:33.226Z"
   },
   {
    "duration": 9,
    "start_time": "2022-05-02T01:58:13.772Z"
   },
   {
    "duration": 20,
    "start_time": "2022-05-02T01:58:18.604Z"
   },
   {
    "duration": 3,
    "start_time": "2022-05-02T01:58:47.081Z"
   },
   {
    "duration": 8,
    "start_time": "2022-05-02T01:58:54.708Z"
   },
   {
    "duration": 9,
    "start_time": "2022-05-02T01:58:56.370Z"
   },
   {
    "duration": 4,
    "start_time": "2022-05-02T01:59:40.778Z"
   },
   {
    "duration": 70,
    "start_time": "2022-05-02T02:01:02.453Z"
   },
   {
    "duration": 5,
    "start_time": "2022-05-02T02:03:46.639Z"
   },
   {
    "duration": 4,
    "start_time": "2022-05-02T02:03:49.978Z"
   },
   {
    "duration": 5,
    "start_time": "2022-05-02T02:03:52.778Z"
   },
   {
    "duration": 17,
    "start_time": "2022-05-02T02:03:55.267Z"
   },
   {
    "duration": 9,
    "start_time": "2022-05-02T02:08:16.539Z"
   },
   {
    "duration": 10,
    "start_time": "2022-05-02T02:08:19.868Z"
   },
   {
    "duration": 5,
    "start_time": "2022-05-02T02:08:58.282Z"
   },
   {
    "duration": 4,
    "start_time": "2022-05-02T02:09:08.544Z"
   },
   {
    "duration": 4,
    "start_time": "2022-05-02T02:09:26.367Z"
   },
   {
    "duration": 7,
    "start_time": "2022-05-02T02:09:37.217Z"
   },
   {
    "duration": 7,
    "start_time": "2022-05-02T02:09:44.169Z"
   },
   {
    "duration": 4625,
    "start_time": "2022-05-02T15:05:26.806Z"
   },
   {
    "duration": 1524,
    "start_time": "2022-05-02T15:05:31.433Z"
   },
   {
    "duration": 20,
    "start_time": "2022-05-02T15:05:32.959Z"
   },
   {
    "duration": 4,
    "start_time": "2022-05-02T15:05:32.981Z"
   },
   {
    "duration": 18,
    "start_time": "2022-05-02T15:05:32.987Z"
   },
   {
    "duration": 13,
    "start_time": "2022-05-02T15:05:33.006Z"
   },
   {
    "duration": 4,
    "start_time": "2022-05-02T15:05:33.020Z"
   },
   {
    "duration": 12,
    "start_time": "2022-05-02T15:05:33.026Z"
   },
   {
    "duration": 20,
    "start_time": "2022-05-02T15:05:33.040Z"
   },
   {
    "duration": 3262,
    "start_time": "2022-05-02T15:05:33.062Z"
   },
   {
    "duration": 2,
    "start_time": "2022-05-02T15:05:36.326Z"
   },
   {
    "duration": 8,
    "start_time": "2022-05-02T15:05:36.330Z"
   },
   {
    "duration": 20,
    "start_time": "2022-05-02T15:05:36.340Z"
   },
   {
    "duration": 15,
    "start_time": "2022-05-02T15:05:36.361Z"
   },
   {
    "duration": 26,
    "start_time": "2022-05-02T15:05:36.378Z"
   },
   {
    "duration": 13,
    "start_time": "2022-05-02T15:05:36.406Z"
   },
   {
    "duration": 26,
    "start_time": "2022-05-02T15:05:36.420Z"
   },
   {
    "duration": 25,
    "start_time": "2022-05-02T15:05:36.448Z"
   },
   {
    "duration": 29,
    "start_time": "2022-05-02T15:05:36.475Z"
   },
   {
    "duration": 14,
    "start_time": "2022-05-02T15:05:36.506Z"
   },
   {
    "duration": 6,
    "start_time": "2022-05-02T15:05:36.521Z"
   },
   {
    "duration": 7,
    "start_time": "2022-05-02T15:05:36.528Z"
   },
   {
    "duration": 4,
    "start_time": "2022-05-02T15:05:36.536Z"
   },
   {
    "duration": 7,
    "start_time": "2022-05-02T15:05:36.541Z"
   },
   {
    "duration": 54,
    "start_time": "2022-05-02T15:05:36.550Z"
   },
   {
    "duration": 363,
    "start_time": "2022-05-02T15:05:36.606Z"
   },
   {
    "duration": 8,
    "start_time": "2022-05-02T15:05:36.970Z"
   },
   {
    "duration": 430,
    "start_time": "2022-05-02T15:05:36.996Z"
   },
   {
    "duration": 186,
    "start_time": "2022-05-02T15:05:37.427Z"
   },
   {
    "duration": 4,
    "start_time": "2022-05-02T15:05:37.615Z"
   },
   {
    "duration": 8,
    "start_time": "2022-05-02T15:05:37.620Z"
   },
   {
    "duration": 10,
    "start_time": "2022-05-02T15:05:37.629Z"
   },
   {
    "duration": 71,
    "start_time": "2022-05-02T15:05:37.641Z"
   },
   {
    "duration": 184,
    "start_time": "2022-05-02T15:05:37.714Z"
   },
   {
    "duration": 3,
    "start_time": "2022-05-02T15:05:37.900Z"
   },
   {
    "duration": 22,
    "start_time": "2022-05-02T15:05:37.905Z"
   },
   {
    "duration": 10,
    "start_time": "2022-05-02T15:05:37.929Z"
   },
   {
    "duration": 6,
    "start_time": "2022-05-02T15:05:37.941Z"
   },
   {
    "duration": 52,
    "start_time": "2022-05-02T15:05:37.948Z"
   },
   {
    "duration": 20,
    "start_time": "2022-05-02T15:05:38.002Z"
   },
   {
    "duration": 130,
    "start_time": "2022-05-02T15:05:38.093Z"
   },
   {
    "duration": 17,
    "start_time": "2022-05-02T15:05:38.225Z"
   },
   {
    "duration": 11,
    "start_time": "2022-05-02T15:05:38.243Z"
   },
   {
    "duration": 10,
    "start_time": "2022-05-02T15:05:38.255Z"
   },
   {
    "duration": 37,
    "start_time": "2022-05-02T15:05:38.267Z"
   },
   {
    "duration": 102,
    "start_time": "2022-05-02T15:05:38.306Z"
   },
   {
    "duration": 17,
    "start_time": "2022-05-02T15:06:21.059Z"
   },
   {
    "duration": 5592,
    "start_time": "2022-05-03T00:46:06.964Z"
   },
   {
    "duration": 1669,
    "start_time": "2022-05-03T00:46:12.559Z"
   },
   {
    "duration": 24,
    "start_time": "2022-05-03T00:46:14.230Z"
   },
   {
    "duration": 21,
    "start_time": "2022-05-03T00:46:14.257Z"
   },
   {
    "duration": 33,
    "start_time": "2022-05-03T00:46:14.280Z"
   },
   {
    "duration": 27,
    "start_time": "2022-05-03T00:46:14.315Z"
   },
   {
    "duration": 17,
    "start_time": "2022-05-03T00:46:14.344Z"
   },
   {
    "duration": 31,
    "start_time": "2022-05-03T00:46:14.363Z"
   },
   {
    "duration": 37,
    "start_time": "2022-05-03T00:46:14.395Z"
   },
   {
    "duration": 3090,
    "start_time": "2022-05-03T00:46:14.435Z"
   },
   {
    "duration": 3,
    "start_time": "2022-05-03T00:46:17.527Z"
   },
   {
    "duration": 105,
    "start_time": "2022-05-03T00:48:56.380Z"
   },
   {
    "duration": 4,
    "start_time": "2022-05-03T00:49:02.596Z"
   },
   {
    "duration": 17,
    "start_time": "2022-05-03T00:49:06.615Z"
   },
   {
    "duration": 17,
    "start_time": "2022-05-03T00:50:33.163Z"
   },
   {
    "duration": 11,
    "start_time": "2022-05-03T00:50:37.034Z"
   },
   {
    "duration": 10,
    "start_time": "2022-05-03T00:50:39.700Z"
   },
   {
    "duration": 28,
    "start_time": "2022-05-03T00:50:42.324Z"
   },
   {
    "duration": 27,
    "start_time": "2022-05-03T00:50:44.887Z"
   },
   {
    "duration": 207,
    "start_time": "2022-05-03T00:57:26.057Z"
   },
   {
    "duration": 7,
    "start_time": "2022-05-03T00:57:34.150Z"
   },
   {
    "duration": 14,
    "start_time": "2022-05-03T00:57:34.876Z"
   },
   {
    "duration": 15,
    "start_time": "2022-05-03T00:58:59.700Z"
   },
   {
    "duration": 23,
    "start_time": "2022-05-03T00:59:03.683Z"
   },
   {
    "duration": 17,
    "start_time": "2022-05-03T00:59:28.560Z"
   },
   {
    "duration": 17,
    "start_time": "2022-05-03T00:59:33.423Z"
   },
   {
    "duration": 16,
    "start_time": "2022-05-03T00:59:36.649Z"
   },
   {
    "duration": 9,
    "start_time": "2022-05-03T01:00:49.646Z"
   },
   {
    "duration": 10,
    "start_time": "2022-05-03T01:00:55.438Z"
   },
   {
    "duration": 3,
    "start_time": "2022-05-03T01:00:57.825Z"
   },
   {
    "duration": 3,
    "start_time": "2022-05-03T01:00:58.334Z"
   },
   {
    "duration": 29,
    "start_time": "2022-05-03T01:00:59.582Z"
   },
   {
    "duration": 339,
    "start_time": "2022-05-03T01:01:02.360Z"
   },
   {
    "duration": 9,
    "start_time": "2022-05-03T01:01:05.879Z"
   },
   {
    "duration": 413,
    "start_time": "2022-05-03T01:01:06.375Z"
   },
   {
    "duration": 161,
    "start_time": "2022-05-03T01:01:08.471Z"
   },
   {
    "duration": 6,
    "start_time": "2022-05-03T01:03:11.246Z"
   },
   {
    "duration": 3,
    "start_time": "2022-05-03T01:03:13.093Z"
   },
   {
    "duration": 10,
    "start_time": "2022-05-03T01:03:13.621Z"
   },
   {
    "duration": 10,
    "start_time": "2022-05-03T01:03:15.220Z"
   },
   {
    "duration": 4,
    "start_time": "2022-05-03T01:03:21.364Z"
   },
   {
    "duration": 3,
    "start_time": "2022-05-03T01:03:21.989Z"
   },
   {
    "duration": 4,
    "start_time": "2022-05-03T01:03:24.020Z"
   },
   {
    "duration": 3,
    "start_time": "2022-05-03T01:03:24.424Z"
   }
  ],
  "kernelspec": {
   "display_name": "Python 3",
   "language": "python",
   "name": "python3"
  },
  "language_info": {
   "codemirror_mode": {
    "name": "ipython",
    "version": 3
   },
   "file_extension": ".py",
   "mimetype": "text/x-python",
   "name": "python",
   "nbconvert_exporter": "python",
   "pygments_lexer": "ipython3",
   "version": "3.8.8"
  },
  "toc": {
   "base_numbering": 1,
   "nav_menu": {},
   "number_sections": true,
   "sideBar": true,
   "skip_h1_title": true,
   "title_cell": "Table of Contents",
   "title_sidebar": "Contents",
   "toc_cell": false,
   "toc_position": {},
   "toc_section_display": true,
   "toc_window_display": true
  }
 },
 "nbformat": 4,
 "nbformat_minor": 4
}
